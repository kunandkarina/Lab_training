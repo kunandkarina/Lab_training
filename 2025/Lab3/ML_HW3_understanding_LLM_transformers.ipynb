{
  "cells": [
    {
      "cell_type": "markdown",
      "metadata": {
        "id": "QkELbiG6ogiG"
      },
      "source": [
        "# Understanding LLM / Transformers (You cannot run the code without saving a copy)"
      ]
    },
    {
      "cell_type": "markdown",
      "metadata": {
        "id": "EvlATdaN45U8"
      },
      "source": [
        "## Check the status of your GPU"
      ]
    },
    {
      "cell_type": "code",
      "execution_count": 1,
      "metadata": {
        "collapsed": true,
        "id": "To39dynktNC2"
      },
      "outputs": [
        {
          "name": "stdout",
          "output_type": "stream",
          "text": [
            "Sun May 18 16:31:13 2025       \n",
            "+-----------------------------------------------------------------------------+\n",
            "| NVIDIA-SMI 525.105.17   Driver Version: 525.105.17   CUDA Version: 12.0     |\n",
            "|-------------------------------+----------------------+----------------------+\n",
            "| GPU  Name        Persistence-M| Bus-Id        Disp.A | Volatile Uncorr. ECC |\n",
            "| Fan  Temp  Perf  Pwr:Usage/Cap|         Memory-Usage | GPU-Util  Compute M. |\n",
            "|                               |                      |               MIG M. |\n",
            "|===============================+======================+======================|\n",
            "|   0  NVIDIA RTX A5000    Off  | 00000000:01:00.0 Off |                  Off |\n",
            "| 30%   24C    P8    16W / 230W |      8MiB / 24564MiB |      0%      Default |\n",
            "|                               |                      |                  N/A |\n",
            "+-------------------------------+----------------------+----------------------+\n",
            "|   1  NVIDIA RTX A6000    Off  | 00000000:81:00.0 Off |                  Off |\n",
            "| 30%   36C    P8    23W / 300W |   6344MiB / 49140MiB |      0%      Default |\n",
            "|                               |                      |                  N/A |\n",
            "+-------------------------------+----------------------+----------------------+\n",
            "|   2  NVIDIA RTX A5000    Off  | 00000000:C1:00.0 Off |                  Off |\n",
            "| 30%   27C    P8    16W / 230W |      8MiB / 24564MiB |      0%      Default |\n",
            "|                               |                      |                  N/A |\n",
            "+-------------------------------+----------------------+----------------------+\n",
            "                                                                               \n",
            "+-----------------------------------------------------------------------------+\n",
            "| Processes:                                                                  |\n",
            "|  GPU   GI   CI        PID   Type   Process name                  GPU Memory |\n",
            "|        ID   ID                                                   Usage      |\n",
            "|=============================================================================|\n",
            "|    0   N/A  N/A      1779      G   /usr/lib/xorg/Xorg                  4MiB |\n",
            "|    1   N/A  N/A      1779      G   /usr/lib/xorg/Xorg                  4MiB |\n",
            "|    1   N/A  N/A   2311825      C   python                           6336MiB |\n",
            "|    2   N/A  N/A      1779      G   /usr/lib/xorg/Xorg                  4MiB |\n",
            "+-----------------------------------------------------------------------------+\n"
          ]
        }
      ],
      "source": [
        "!nvidia-smi"
      ]
    },
    {
      "cell_type": "markdown",
      "metadata": {
        "id": "FISzjhfg4vo6"
      },
      "source": [
        "## Installing **transformers** for further usage (please do not alter the version for stable usage of model)"
      ]
    },
    {
      "cell_type": "code",
      "execution_count": null,
      "metadata": {
        "collapsed": true,
        "id": "e0ZtRUtLoWjq"
      },
      "outputs": [],
      "source": [
        "!pip install transformers==4.47.0"
      ]
    },
    {
      "cell_type": "markdown",
      "metadata": {
        "id": "DLvm_l4g4O9U"
      },
      "source": [
        "## Huggingface login\n",
        "\n",
        "### You need the huggingface token (hf_token) to login to huggingface and install the gemma model. Therefore make sure you create your huggingface token. (Described in the Google slides)"
      ]
    },
    {
      "cell_type": "code",
      "execution_count": 2,
      "metadata": {
        "id": "9ewrDfyEr0KS"
      },
      "outputs": [],
      "source": [
        "######################## TODO (Pre-requisites) ########################\n",
        "# replace `your_hf_token` with your huggingface token\n",
        "\n",
        "from huggingface_hub import login\n",
        "import getpass\n",
        "hf_token = getpass.getpass(\"Enter your Hugging Face token: \")\n",
        "login(hf_token)\n",
        "#######################################################################"
      ]
    },
    {
      "cell_type": "markdown",
      "metadata": {
        "id": "HY1e8Urn-qy8"
      },
      "source": [
        "## Download the model"
      ]
    },
    {
      "cell_type": "markdown",
      "metadata": {
        "id": "N_nHl3zFCS5T"
      },
      "source": [
        "### Gemma Model: https://huggingface.co/google/gemma-2-2b-it\n",
        "### Please accept the lincense to download the gemma model (As described on Google Slides)\n"
      ]
    },
    {
      "cell_type": "code",
      "execution_count": 3,
      "metadata": {
        "id": "WrrBTIl-ryeo"
      },
      "outputs": [
        {
          "data": {
            "application/vnd.jupyter.widget-view+json": {
              "model_id": "dd6ec9c9235544a3aefa28f7e71182be",
              "version_major": 2,
              "version_minor": 0
            },
            "text/plain": [
              "Loading checkpoint shards:   0%|          | 0/2 [00:00<?, ?it/s]"
            ]
          },
          "metadata": {},
          "output_type": "display_data"
        }
      ],
      "source": [
        "import torch\n",
        "from transformers import AutoTokenizer, AutoModelForCausalLM\n",
        "\n",
        "model_id = \"google/gemma-2-2b-it\"\n",
        "dtype = torch.float16\n",
        "\n",
        "# Load tokenizer and model\n",
        "tokenizer = AutoTokenizer.from_pretrained(model_id)\n",
        "model = AutoModelForCausalLM.from_pretrained(\n",
        "    model_id,\n",
        "    device_map=\"cuda\",\n",
        "    torch_dtype=dtype,\n",
        ")"
      ]
    },
    {
      "cell_type": "markdown",
      "metadata": {
        "id": "P4cI-w4lEqvz"
      },
      "source": [
        "## Q1: Chat template Comparison"
      ]
    },
    {
      "cell_type": "markdown",
      "metadata": {
        "id": "iBlbhVN4BHVG"
      },
      "source": [
        "### Evaluation Model: https://huggingface.co/cross-encoder/ms-marco-MiniLM-L-6-v2\n"
      ]
    },
    {
      "cell_type": "code",
      "execution_count": 2,
      "metadata": {
        "id": "-iSpRNhLBcMz"
      },
      "outputs": [],
      "source": [
        "from transformers import AutoTokenizer, AutoModelForSequenceClassification\n",
        "import torch\n",
        "\n",
        "SCORING_MODEL = AutoModelForSequenceClassification.from_pretrained('cross-encoder/ms-marco-MiniLM-L-6-v2')\n",
        "SCORING_TOKENIZER = AutoTokenizer.from_pretrained('cross-encoder/ms-marco-MiniLM-L-6-v2')\n",
        "\n",
        "\n",
        "def calculate_coherence(question, answer, scoring_model=SCORING_MODEL, tokenizer=SCORING_TOKENIZER):\n",
        "  features = tokenizer([question], [answer], padding=True, truncation=True, return_tensors=\"pt\")\n",
        "  scoring_model.eval()\n",
        "  with torch.no_grad():\n",
        "      scores = scoring_model(**features).logits.squeeze().item()\n",
        "  return scores"
      ]
    },
    {
      "cell_type": "markdown",
      "metadata": {
        "id": "9JFRJMWdMrHU"
      },
      "source": [
        "### Observe whether the chat template affects the model's output results."
      ]
    },
    {
      "cell_type": "code",
      "execution_count": 3,
      "metadata": {
        "id": "Bl-FK-lycGs5"
      },
      "outputs": [],
      "source": [
        "def generate_text_from_prompt(prompt, tokenizer, model):\n",
        "  \"\"\"\n",
        "  generate the output from the prompt.\n",
        "  param:\n",
        "    prompt (str): the prompt inputted to the model\n",
        "    tokenizer   : the tokenizer that is used to encode / decode the input / output\n",
        "    model       : the model that is used to generate the output\n",
        "\n",
        "  return:\n",
        "    the response of the model\n",
        "  \"\"\"\n",
        "  print(\"========== Prompt inputted to the model ==========\\n\", prompt)\n",
        "\n",
        "  # Tokenize the prompt\n",
        "  input_ids = tokenizer(prompt, return_tensors=\"pt\").to(\"cuda:0\")\n",
        "\n",
        "  ######################## TODO (Q1.1 ~ 1.4) ########################\n",
        "  ### You can refer to https://huggingface.co/google/gemma-2-2b-it for basic usage\n",
        "  ### Make sure to use 'do_sample=False' to get a deterministic response\n",
        "  ### Otherwise the coherence score may be different from the sample answer\n",
        "\n",
        "  # Generate response\n",
        "  output_ids = model.generate(**input_ids, max_new_tokens=256, do_sample=False)\n",
        "  ###################################################################\n",
        "  if output_ids is not None and len(output_ids) > 0:\n",
        "    return tokenizer.decode(output_ids[0], skip_special_tokens=True)\n",
        "  else:\n",
        "    return \"Empty Response\""
      ]
    },
    {
      "cell_type": "code",
      "execution_count": 4,
      "metadata": {
        "id": "-_Gw3DqEbe6B"
      },
      "outputs": [
        {
          "name": "stderr",
          "output_type": "stream",
          "text": [
            "The 'batch_size' attribute of HybridCache is deprecated and will be removed in v4.49. Use the more precisely named 'self.max_batch_size' attribute instead.\n"
          ]
        },
        {
          "name": "stdout",
          "output_type": "stream",
          "text": [
            "========== Prompt inputted to the model ==========\n",
            " <bos><start_of_turn>user\n",
            "Please tell me about the key differences between supervised learning and unsupervised learning. Answer in 200 words.<end_of_turn>\n",
            "<start_of_turn>model\n",
            "\n",
            "========== Output ==========\n",
            " Supervised and unsupervised learning are two fundamental types of machine learning. \n",
            "\n",
            "**Supervised learning** involves training a model on labeled data, where each input has a corresponding output. The model learns to map inputs to outputs, making predictions on new, unseen data. Think of it like teaching a child with labeled examples: you show them pictures of cats and dogs, and they learn to distinguish between them. \n",
            "\n",
            "**Unsupervised learning**, on the other hand, uses unlabeled data. The model learns patterns and structures within the data without explicit guidance. It's like letting a child explore a room full of toys and discover patterns on their own. Examples include clustering similar items or finding hidden relationships in data.\n",
            "\n",
            "**Key differences:**\n",
            "\n",
            "* **Labeling:** Supervised uses labeled data, unsupervised doesn't.\n",
            "* **Goal:** Supervised aims to predict outputs, unsupervised aims to discover patterns.\n",
            "* **Applications:** Supervised: classification, regression, supervised tasks; Unsupervised: clustering, anomaly detection, dimensionality reduction. \n",
            "\n",
            "\n",
            "Both types are powerful tools with their own strengths and weaknesses, and the choice depends on the specific problem and available data.\n",
            "========== Coherence Score : 6.0734  ==========\n"
          ]
        }
      ],
      "source": [
        "# With chat template\n",
        "question = \"Please tell me about the key differences between supervised learning and unsupervised learning. Answer in 200 words.\"\n",
        "chat = [\n",
        "    {\"role\": \"user\", \"content\": question},\n",
        "]\n",
        "prompt_with_template = tokenizer.apply_chat_template(chat, tokenize=False, add_generation_prompt=True)\n",
        "response_with_template = generate_text_from_prompt(prompt_with_template, tokenizer, model)\n",
        "\n",
        "# extract the real output from the model\n",
        "response_with_template = response_with_template.split('model\\n')[-1].strip('\\n').strip()\n",
        "\n",
        "print(\"========== Output ==========\\n\", response_with_template)\n",
        "score = calculate_coherence(question, response_with_template)\n",
        "print(f\"========== Coherence Score : {score:.4f}  ==========\")"
      ]
    },
    {
      "cell_type": "code",
      "execution_count": 5,
      "metadata": {
        "id": "6aaeWDSCbigu"
      },
      "outputs": [
        {
          "name": "stdout",
          "output_type": "stream",
          "text": [
            "========== Prompt inputted to the model ==========\n",
            " Please tell me about the key differences between supervised learning and unsupervised learning. Answer in 200 words.\n",
            "========== Output ==========\n",
            " **Supervised Learning:**\n",
            "\n",
            "* **Labeled data:** Uses data with known outputs (labels) to train models.\n",
            "* **Goal:** Predict the output for new, unseen data.\n",
            "* **Examples:** Image classification, spam detection, predicting house prices.\n",
            "\n",
            "**Unsupervised Learning:**\n",
            "\n",
            "* **Unlabeled data:** Uses data without known outputs to discover patterns.\n",
            "* **Goal:** Explore data, identify clusters, or reduce dimensionality.\n",
            "* **Examples:** Customer segmentation, anomaly detection, dimensionality reduction.\n",
            "\n",
            "\n",
            "In essence, supervised learning learns from labeled examples to make predictions, while unsupervised learning explores unlabeled data to uncover hidden structures and relationships.\n",
            "========== Coherence Score : 4.2210  ==========\n"
          ]
        }
      ],
      "source": [
        "# Without chat template (directly using plain text)\n",
        "response_without_template = generate_text_from_prompt(question, tokenizer, model)\n",
        "\n",
        "# extract the real output from the model\n",
        "response_without_template = response_without_template.split(question.split(' ')[-1])[-1].strip('\\n').strip()\n",
        "print(\"========== Output ==========\\n\", response_without_template)\n",
        "score = calculate_coherence(question, response_without_template)\n",
        "print(f\"========== Coherence Score : {score:.4f}  ==========\")"
      ]
    },
    {
      "cell_type": "markdown",
      "metadata": {
        "id": "9YT8amEJSP-E"
      },
      "source": [
        "## Q2: Multi-turn conversations"
      ]
    },
    {
      "cell_type": "code",
      "execution_count": 7,
      "metadata": {
        "id": "hAkqoPxsSrbz"
      },
      "outputs": [
        {
          "name": "stdout",
          "output_type": "stream",
          "text": [
            "Chatbot: Hello! How can I assist you today? (Type 'exit' to quit)\n",
            "=== Prompt with chat template format inputted to the model on round 1 ===\n",
            "<bos><start_of_turn>user\n",
            "Name a color in a rainbow, please just answer in a word without any emoji.<end_of_turn>\n",
            "<start_of_turn>model\n",
            "\n",
            "===============================================\n"
          ]
        },
        {
          "name": "stderr",
          "output_type": "stream",
          "text": [
            "/tmp/ipykernel_3834146/2569789955.py:44: FutureWarning: \n",
            "\n",
            "Passing `palette` without assigning `hue` is deprecated and will be removed in v0.14.0. Assign the `y` variable to `hue` and set `legend=False` for the same effect.\n",
            "\n",
            "  sns.barplot(x=top_probs, y=top_tokens, palette=\"coolwarm\")\n"
          ]
        },
        {
          "data": {
            "image/png": "[encoded data removed]",
            "text/plain": [
              "<Figure size 1000x500 with 1 Axes>"
            ]
          },
          "metadata": {},
          "output_type": "display_data"
        },
        {
          "name": "stdout",
          "output_type": "stream",
          "text": [
            "Chatbot: Indigo \n",
            "\n",
            "=== Prompt with chat template format inputted to the model on round 2 ===\n",
            "<bos><start_of_turn>user\n",
            "Name a color in a rainbow, please just answer in a word without any emoji.<end_of_turn>\n",
            "<start_of_turn>model\n",
            "Indigo<end_of_turn>\n",
            "<start_of_turn>user\n",
            "That’s great! Now, could you tell me another color that I can find in a rainbow?<end_of_turn>\n",
            "<start_of_turn>model\n",
            "\n",
            "===============================================\n"
          ]
        },
        {
          "name": "stderr",
          "output_type": "stream",
          "text": [
            "/tmp/ipykernel_3834146/2569789955.py:44: FutureWarning: \n",
            "\n",
            "Passing `palette` without assigning `hue` is deprecated and will be removed in v0.14.0. Assign the `y` variable to `hue` and set `legend=False` for the same effect.\n",
            "\n",
            "  sns.barplot(x=top_probs, y=top_tokens, palette=\"coolwarm\")\n"
          ]
        },
        {
          "data": {
            "image/png": "[encoded data removed]",
            "text/plain": [
              "<Figure size 1000x500 with 1 Axes>"
            ]
          },
          "metadata": {},
          "output_type": "display_data"
        },
        {
          "name": "stdout",
          "output_type": "stream",
          "text": [
            "Chatbot: Orange \n",
            "\n",
            "=== Prompt with chat template format inputted to the model on round 3 ===\n",
            "<bos><start_of_turn>user\n",
            "Name a color in a rainbow, please just answer in a word without any emoji.<end_of_turn>\n",
            "<start_of_turn>model\n",
            "Indigo<end_of_turn>\n",
            "<start_of_turn>user\n",
            "That’s great! Now, could you tell me another color that I can find in a rainbow?<end_of_turn>\n",
            "<start_of_turn>model\n",
            "Orange<end_of_turn>\n",
            "<start_of_turn>user\n",
            "Could you continue and name yet another color from the rainbow?<end_of_turn>\n",
            "<start_of_turn>model\n",
            "\n",
            "===============================================\n"
          ]
        },
        {
          "name": "stderr",
          "output_type": "stream",
          "text": [
            "/tmp/ipykernel_3834146/2569789955.py:44: FutureWarning: \n",
            "\n",
            "Passing `palette` without assigning `hue` is deprecated and will be removed in v0.14.0. Assign the `y` variable to `hue` and set `legend=False` for the same effect.\n",
            "\n",
            "  sns.barplot(x=top_probs, y=top_tokens, palette=\"coolwarm\")\n"
          ]
        },
        {
          "data": {
            "image/png": "[encoded data removed]",
            "text/plain": [
              "<Figure size 1000x500 with 1 Axes>"
            ]
          },
          "metadata": {},
          "output_type": "display_data"
        },
        {
          "name": "stdout",
          "output_type": "stream",
          "text": [
            "Chatbot: Green \n",
            "\n",
            "Chatbot: Goodbye!\n"
          ]
        }
      ],
      "source": [
        "import matplotlib.pyplot as plt\n",
        "import seaborn as sns\n",
        "chat_history = []\n",
        "round = 0\n",
        "print(\"Chatbot: Hello! How can I assist you today? (Type 'exit' to quit)\")\n",
        "\n",
        "while True:\n",
        "    user_input = input(\"You: \")\n",
        "    if user_input.lower() == \"exit\":\n",
        "        print(\"Chatbot: Goodbye!\")\n",
        "        break\n",
        "\n",
        "    round += 1\n",
        "    chat_history.append({\"role\": \"user\", \"content\": user_input})\n",
        "    chat_template_format_prompt = tokenizer.apply_chat_template(chat_history, tokenize=False, add_generation_prompt=True)\n",
        "    ######################## (Q2.1 ~ 2.3) ########################\n",
        "    # Observe the prompt with chat template format that was inputted to the model in the current round to answer Q2.1 ~ Q2.3.\n",
        "    print(f\"=== Prompt with chat template format inputted to the model on round {round} ===\\n{chat_template_format_prompt}\")\n",
        "    print(f\"===============================================\")\n",
        "    ###################################################################\n",
        "\n",
        "    inputs = tokenizer(chat_template_format_prompt, return_tensors=\"pt\").to(\"cuda:0\")\n",
        "    # Get logits instead of directly generating\n",
        "    with torch.no_grad():\n",
        "        outputs_p = model(**inputs)\n",
        "\n",
        "    logits = outputs_p.logits  # Logits of the model (raw scores before softmax)\n",
        "    last_token_logits = logits[:, -1, :]  # Take the logits of the last generated token\n",
        "\n",
        "    # Apply softmax to get probabilities\n",
        "    probs = torch.nn.functional.softmax(last_token_logits, dim=-1)\n",
        "\n",
        "    # Get top-k tokens (e.g., 10)\n",
        "    top_k = 10\n",
        "    top_probs, top_indices = torch.topk(probs, top_k)\n",
        "\n",
        "    # Convert to numpy for plotting\n",
        "    top_probs = top_probs.cpu().squeeze().numpy()\n",
        "    top_indices = top_indices.cpu().squeeze().numpy()\n",
        "    top_tokens = [tokenizer.decode([idx]) for idx in top_indices]\n",
        "\n",
        "    # Plot probability distribution\n",
        "    plt.figure(figsize=(10, 5))\n",
        "    sns.barplot(x=top_probs, y=top_tokens, palette=\"coolwarm\")\n",
        "    plt.xlabel(\"Probability\")\n",
        "    plt.ylabel(\"Token\")\n",
        "    plt.title(\"Top Token Probabilities for Next Word\")\n",
        "    plt.show()\n",
        "\n",
        "    # Generate response\n",
        "    outputs = model.generate(**inputs, max_new_tokens=200, pad_token_id=tokenizer.eos_token_id, do_sample=False)\n",
        "    response = tokenizer.decode(outputs[0][inputs.input_ids.shape[1]:], skip_special_tokens=True)\n",
        "\n",
        "    print(f\"Chatbot: {response}\")\n",
        "    chat_history.append({\"role\": \"assistant\", \"content\": response})"
      ]
    },
    {
      "cell_type": "markdown",
      "metadata": {
        "id": "Oo7JKIgp0Txd"
      },
      "source": [
        "## Q3: Tokenization of Sentence"
      ]
    },
    {
      "cell_type": "code",
      "execution_count": 8,
      "metadata": {
        "id": "qHrVdb_20Txd"
      },
      "outputs": [
        {
          "name": "stdout",
          "output_type": "stream",
          "text": [
            "Token: I, token index: 235285\n",
            "Token: ▁love, token index: 2182\n",
            "Token: ▁taking, token index: 4998\n",
            "Token: ▁a, token index: 476\n",
            "Token: ▁Machine, token index: 13403\n",
            "Token: ▁Learning, token index: 14715\n",
            "Token: ▁course, token index: 3205\n",
            "Token: ▁by, token index: 731\n",
            "Token: ▁Professor, token index: 11325\n",
            "Token: ▁Hung, token index: 18809\n",
            "Token: -, token index: 235290\n",
            "Token: yi, token index: 12636\n",
            "Token: ▁Lee, token index: 9201\n",
            "Token: ,, token index: 235269\n",
            "Token: ▁What, token index: 2439\n",
            "Token: ▁about, token index: 1105\n",
            "Token: ▁you, token index: 692\n",
            "Token: ?, token index: 235336\n"
          ]
        }
      ],
      "source": [
        "sentence = \"I love taking a Machine Learning course by Professor Hung-yi Lee, What about you?\" #@param {type:\"string\"}\n",
        "\n",
        "######################## TODO (Q3.1 ~ 3.4) ########################\n",
        "### You can refer to https://huggingface.co/learn/nlp-course/en/chapter2/4?fw=pt for basic tokenizer usage\n",
        "### and https://huggingface.co/docs/transformers/en/main_classes/tokenizer for full tokenizer usage\n",
        "\n",
        "\n",
        "# Encode the sentence into token IDs without adding special tokens\n",
        "token_ids = tokenizer.convert_tokens_to_ids(tokenizer.tokenize(sentence))\n",
        "\n",
        "# Convert the token IDs back to their corresponding tokens (words or subwords)\n",
        "tokens = tokenizer.tokenize(sentence)\n",
        "###################################################################\n",
        "\n",
        "# Iterate through the tokens and their corresponding token IDs\n",
        "for t, t_id in zip(tokens, token_ids):\n",
        "    # Print the token and its index (ID)\n",
        "    print(f\"Token: {t}, token index: {t_id}\")"
      ]
    },
    {
      "cell_type": "code",
      "execution_count": 9,
      "metadata": {},
      "outputs": [
        {
          "name": "stdout",
          "output_type": "stream",
          "text": [
            "I love taking a Machine Learning course by Professor Hung-yi Lee, What about you?\n"
          ]
        }
      ],
      "source": [
        "decode_string = tokenizer.decode(token_ids)\n",
        "print(decode_string)"
      ]
    },
    {
      "cell_type": "code",
      "execution_count": 4,
      "metadata": {},
      "outputs": [
        {
          "name": "stdout",
          "output_type": "stream",
          "text": [
            "Gemma2Config {\n",
            "  \"_attn_implementation_autoset\": true,\n",
            "  \"_name_or_path\": \"google/gemma-2-2b-it\",\n",
            "  \"architectures\": [\n",
            "    \"Gemma2ForCausalLM\"\n",
            "  ],\n",
            "  \"attention_bias\": false,\n",
            "  \"attention_dropout\": 0.0,\n",
            "  \"attn_logit_softcapping\": 50.0,\n",
            "  \"bos_token_id\": 2,\n",
            "  \"cache_implementation\": \"hybrid\",\n",
            "  \"eos_token_id\": [\n",
            "    1,\n",
            "    107\n",
            "  ],\n",
            "  \"final_logit_softcapping\": 30.0,\n",
            "  \"head_dim\": 256,\n",
            "  \"hidden_act\": \"gelu_pytorch_tanh\",\n",
            "  \"hidden_activation\": \"gelu_pytorch_tanh\",\n",
            "  \"hidden_size\": 2304,\n",
            "  \"initializer_range\": 0.02,\n",
            "  \"intermediate_size\": 9216,\n",
            "  \"max_position_embeddings\": 8192,\n",
            "  \"model_type\": \"gemma2\",\n",
            "  \"num_attention_heads\": 8,\n",
            "  \"num_hidden_layers\": 26,\n",
            "  \"num_key_value_heads\": 4,\n",
            "  \"pad_token_id\": 0,\n",
            "  \"query_pre_attn_scalar\": 256,\n",
            "  \"rms_norm_eps\": 1e-06,\n",
            "  \"rope_theta\": 10000.0,\n",
            "  \"sliding_window\": 4096,\n",
            "  \"torch_dtype\": \"float16\",\n",
            "  \"transformers_version\": \"4.47.0\",\n",
            "  \"use_cache\": true,\n",
            "  \"vocab_size\": 256000\n",
            "}\n",
            "\n"
          ]
        }
      ],
      "source": [
        "print(model.config)"
      ]
    },
    {
      "cell_type": "markdown",
      "metadata": {
        "id": "O1ocRPtU0Txe"
      },
      "source": [
        "## Q4: Auto-regressive generation"
      ]
    },
    {
      "cell_type": "code",
      "execution_count": 7,
      "metadata": {
        "id": "F3F8yl41t2he"
      },
      "outputs": [
        {
          "name": "stderr",
          "output_type": "stream",
          "text": [
            "  0%|          | 0/20 [00:00<?, ?it/s]"
          ]
        },
        {
          "name": "stderr",
          "output_type": "stream",
          "text": [
            "100%|██████████| 20/20 [00:21<00:00,  1.09s/it]\n",
            "100%|██████████| 20/20 [00:20<00:00,  1.01s/it]"
          ]
        },
        {
          "name": "stdout",
          "output_type": "stream",
          "text": [
            "===== Top-K Sampling Output =====\n",
            "\n",
            "0. Professor Lee is highly regarded as one of the leading experts in the field of machine learning and instruction.\n",
            "1. Here's the original: Professor Hung-yi Lee is one of the best teachers in the domain of machine learning. \n",
            "\n",
            "Here's a\n",
            "2. His dedication to educating future leaders in the field of machine learning has made him highly regarded within the industry.\n",
            "3. He is highly regarded as a leading expert in machine learning education.\n",
            "4. Professor Lee's exceptional teaching skills have made him one of the foremost experts in machine learning.\n",
            "5. Professor Lee is highly regarded for his expertise in machine learning, and is amongst the leading educators in the field.\n",
            "6. Lee is highly esteemed for his expertise in machine learning instruction.\n",
            "7. Professor Lee is highly regarded for his expertise in machine learning and considered among the top instructors in the field.\n",
            "8. Professor Lee is highly regarded for his expertise in machine learning, making him one of the top instructors in this field.\n",
            "9. Professor Lee is highly regarded for his expertise on machine learning.\n",
            "10. Professor Lee is highly regarded for his expertise in machine learning and is considered to be among the top educators in his field.\n",
            "11. Professor Lee is renowned for his exceptional teaching skills within the field of machine learning.\n",
            "12. Professor Lee is highly regarded as a top-notch educator in the field of machine learning.\n",
            "13. He is highly regarded in the field of machine learning for his outstanding teaching ability.\n",
            "14. He is a renowned expert in machine learning whose teaching abilities are highly regarded.\n",
            "15. Professor Lee is highly regarded as a leading expert in machine learning due to his exceptional teaching abilities.\n",
            "16. Here's the breakdown of why this is important:\n",
            "\n",
            "* **Conciseness:** We're looking for a shorter, more concise\n",
            "17. He is highly regarded as a leading figure in machine learning education and instruction.\n",
            "18. He is highly regarded for his work and teaching abilities in the field of machine learning.  \n",
            " \n",
            "Professor Hung-yi Lee is distinguished in\n",
            "19. Professor Lee is highly regarded for his excellence in teaching machine learning.\n",
            "\n",
            "===== Top-P Sampling Output =====\n",
            "\n",
            "0. His expertise in machine learning has made him an exemplary teacher. \n",
            "\n",
            "\n",
            "Professor Hung-yi Lee's exceptional knowledge in machine learning enables\n",
            "1. Professor Lee is highly regarded within the field of machine learning for his exceptional teaching abilities.\n",
            "2. His exceptional teaching skills in machine learning make him a highly regarded educator.\n",
            "3. Professor Lee is highly regarded for his expertise in machine learning and considered a top teacher in his field.\n",
            "4. Dr. Lee is a highly regarded expert in machine learning education.\n",
            "5. He is highly regarded as a leading expert in machine learning and an exceptional educator.\n",
            "6. Professor Lee is an outstanding teacher within the field of machine learning.\n",
            "7. He is highly regarded as a leading figure in the field of machine learning and renowned for his outstanding teaching abilities.\n",
            "8. Professor Lee is highly regarded for his teaching abilities in the field of machine learning.\n",
            "9. Professor Lee is highly regarded as a skilled and experienced machine learning educator.\n",
            "10. He is renowned for his expertise in the field of machine learning and a highly effective teacher.\n",
            "11. He is highly regarded as a leading expert in machine learning with a strong track record. \n",
            "\n",
            "\n",
            "Professor Lee is exceptionally talented in his field\n",
            "12. Professor Lee is highly regarded within the machine learning field, being considered one of the outstanding teachers.\n",
            "13. Professor Lee is highly regarded and considered a leading expert in the field of machine learning teaching.\n",
            "14. Professor Lee is highly regarded as an expert in machine learning and a distinguished teacher.\n",
            "15. While Professor Lee is highly skilled in machine learning, his teaching ability is widely recognized as exceptional.\n",
            "16. Professor Lee is renowned for his excellence in teaching machine learning.\n",
            "17. He is renowned for his expertise in machine learning and consistently provides outstanding instruction.\n",
            "18. Professor Hung-yi Lee is highly regarded as a leading expert in the field of machine learning education.\n",
            "19. Professor Lee is highly regarded for his expertise in machine learning.\n",
            "\n"
          ]
        },
        {
          "name": "stderr",
          "output_type": "stream",
          "text": [
            "\n"
          ]
        }
      ],
      "source": [
        "from tqdm import trange\n",
        "from transformers import HybridCache\n",
        "\n",
        "max_generation_tokens = 30\n",
        "\n",
        "######################## TODO (Q4.3 ~ 4.6) ########################\n",
        "# Modify the value of k and p accordingly\n",
        "\n",
        "top_k = 200  # Set K for top-k sampling\n",
        "top_p = 0.999  # Set P for nucleus sampling\n",
        "###################################################################\n",
        "\n",
        "# Input prompt\n",
        "prompt = f\"Generate a paraphrase of the sentence 'Professor Hung-yi Lee is one of the best teachers in the domain of machine learning'. Just response with one sentence.\"\n",
        "input_ids = tokenizer(prompt, return_tensors=\"pt\")\n",
        "\n",
        "# Initialize KV Cache\n",
        "kv_cache = HybridCache(config=model.config, max_batch_size=1, max_cache_len=max_generation_tokens, device=\"cuda\", dtype=torch.float16)\n",
        "\n",
        "next_token_id = input_ids.input_ids.to(\"cuda\")\n",
        "attention_mask = input_ids.attention_mask.to(\"cuda\")\n",
        "cache_position = torch.arange(attention_mask.shape[1], device=\"cuda\")\n",
        "\n",
        "generated_sentences_top_k = []\n",
        "generated_sentences_top_p = []\n",
        "\n",
        "\n",
        "\n",
        "# Define the generation parameters\n",
        "generation_params = {\n",
        "    \"do_sample\": True,  # Enable sampling\n",
        "    \"max_length\": max_generation_tokens + len(input_ids.input_ids[0]),  # Total length including prompt\n",
        "    \"pad_token_id\": tokenizer.pad_token_id,  # Ensure padding token is set\n",
        "    \"eos_token_id\": tokenizer.eos_token_id,  # Ensure EOS token is set\n",
        "    \"bos_token_id\": tokenizer.bos_token_id,  # Ensure BOS token is set\n",
        "    \"attention_mask\": input_ids.attention_mask.to(\"cuda\"),  # Move attention mask to GPU\n",
        "    \"use_cache\": True,  # Enable caching\n",
        "    \"return_dict_in_generate\": True,  # Return generation outputs\n",
        "    \"output_scores\": False,  # Disable outputting scores\n",
        "}\n",
        "\n",
        "\n",
        "for method in [\"top-k\", \"top-p\"]:\n",
        "    for _ in trange(20):\n",
        "      if method == \"top-k\":\n",
        "        # Generate text using the model with top_k\n",
        "        generated_output = model.generate(\n",
        "            input_ids=input_ids.input_ids.to(\"cuda\"),\n",
        "            top_k=top_k,\n",
        "            **generation_params\n",
        "        )\n",
        "      elif method == \"top-p\":\n",
        "        # Generate text using the model with top_p\n",
        "        ######################## TODO (Q4.3 ~ 4.6) ########################\n",
        "        # Generate output from the model based on the input_ids and specified generation parameters\n",
        "        # You can refer to this documentation: https://huggingface.co/docs/transformers/en/main_classes/text_generation\n",
        "        # Hint: You can check how we generate the text with top_k\n",
        "\n",
        "        generated_output = model.generate(\n",
        "            input_ids=input_ids.input_ids.to(\"cuda\"),\n",
        "            top_p=top_p,\n",
        "            **generation_params\n",
        "        )\n",
        "        ###################################################################\n",
        "      else:\n",
        "        raise NotImplementedError()\n",
        "      # Decode the generated tokens\n",
        "      generated_tokens = generated_output.sequences[0, len(input_ids.input_ids[0]):]\n",
        "      decoded_text = tokenizer.decode(generated_tokens, skip_special_tokens=True)\n",
        "\n",
        "      # Combine the prompt with the generated text\n",
        "      sentence = decoded_text.replace(\" ,\", \",\").replace(\" 's\", \"'s\").replace(\" .\", \".\").strip()\n",
        "\n",
        "      # Append the generated sentence to the appropriate list\n",
        "      if method == \"top-k\":\n",
        "          generated_sentences_top_k.append(sentence)\n",
        "      else:\n",
        "          generated_sentences_top_p.append(sentence)\n",
        "\n",
        "# Print results\n",
        "print(\"===== Top-K Sampling Output =====\")\n",
        "print()\n",
        "for idx,sentence in enumerate(generated_sentences_top_k):\n",
        "    print(f\"{idx}. {sentence}\")\n",
        "print()\n",
        "print(\"===== Top-P Sampling Output =====\")\n",
        "print()\n",
        "for idx,sentence in enumerate(generated_sentences_top_p):\n",
        "    print(f\"{idx}. {sentence}\")\n",
        "print()"
      ]
    },
    {
      "cell_type": "code",
      "execution_count": 8,
      "metadata": {
        "id": "oMkYXsyLqR5I"
      },
      "outputs": [
        {
          "name": "stdout",
          "output_type": "stream",
          "text": [
            "self-BLEU Score for top_k (k=200): 0.1074\n",
            "self-BLEU Score for top_p (p=0.999): 0.1238\n"
          ]
        },
        {
          "name": "stderr",
          "output_type": "stream",
          "text": [
            "/home/jtss/.conda/envs/lab_training/lib/python3.10/site-packages/nltk/translate/bleu_score.py:577: UserWarning: \n",
            "The hypothesis contains 0 counts of 4-gram overlaps.\n",
            "Therefore the BLEU score evaluates to 0, independently of\n",
            "how many N-gram overlaps of lower order it contains.\n",
            "Consider using lower n-gram order or use SmoothingFunction()\n",
            "  warnings.warn(_msg)\n",
            "/home/jtss/.conda/envs/lab_training/lib/python3.10/site-packages/nltk/translate/bleu_score.py:577: UserWarning: \n",
            "The hypothesis contains 0 counts of 3-gram overlaps.\n",
            "Therefore the BLEU score evaluates to 0, independently of\n",
            "how many N-gram overlaps of lower order it contains.\n",
            "Consider using lower n-gram order or use SmoothingFunction()\n",
            "  warnings.warn(_msg)\n",
            "/home/jtss/.conda/envs/lab_training/lib/python3.10/site-packages/nltk/translate/bleu_score.py:577: UserWarning: \n",
            "The hypothesis contains 0 counts of 2-gram overlaps.\n",
            "Therefore the BLEU score evaluates to 0, independently of\n",
            "how many N-gram overlaps of lower order it contains.\n",
            "Consider using lower n-gram order or use SmoothingFunction()\n",
            "  warnings.warn(_msg)\n"
          ]
        }
      ],
      "source": [
        "from nltk.translate.bleu_score import sentence_bleu\n",
        "\n",
        "def compute_self_bleu(generated_sentences):\n",
        "    total_bleu_score = 0\n",
        "    num_sentences = len(generated_sentences)\n",
        "\n",
        "    for i, hypothesis in enumerate(generated_sentences):\n",
        "        references = [generated_sentences[j] for j in range(num_sentences) if j != i]\n",
        "        bleu_scores = [sentence_bleu([ref.split()], hypothesis.split()) for ref in references]\n",
        "        total_bleu_score += sum(bleu_scores) / len(bleu_scores)\n",
        "\n",
        "    return total_bleu_score / num_sentences\n",
        "\n",
        "# Calculate BLEU score\n",
        "bleu_score = compute_self_bleu(generated_sentences_top_k)\n",
        "print(f\"self-BLEU Score for top_k (k={top_k}): {bleu_score:.4f}\")\n",
        "\n",
        "# Calculate BLEU score\n",
        "bleu_score = compute_self_bleu(generated_sentences_top_p)\n",
        "print(f\"self-BLEU Score for top_p (p={top_p}): {bleu_score:.4f}\")\n"
      ]
    },
    {
      "cell_type": "markdown",
      "metadata": {
        "id": "RvI2LvarYe-M"
      },
      "source": [
        "## Q5: t-SNE"
      ]
    },
    {
      "cell_type": "code",
      "execution_count": 12,
      "metadata": {
        "id": "AH4t64HSv6r9"
      },
      "outputs": [
        {
          "name": "stderr",
          "output_type": "stream",
          "text": [
            "Asking to truncate to max_length but no maximum length is provided and the model has no predefined maximum length. Default to no truncation.\n",
            "/home/jtss/.local/lib/python3.10/site-packages/sklearn/manifold/_t_sne.py:780: FutureWarning: The default initialization in TSNE will change from 'random' to 'pca' in 1.2.\n",
            "  warnings.warn(\n",
            "/home/jtss/.local/lib/python3.10/site-packages/sklearn/manifold/_t_sne.py:790: FutureWarning: The default learning rate in TSNE will change from 200.0 to 'auto' in 1.2.\n",
            "  warnings.warn(\n"
          ]
        },
        {
          "name": "stdout",
          "output_type": "stream",
          "text": [
            "{'input_ids': tensor([[     0,      0,      2, 235285,  19040,    476,   6422,  15491, 235265],\n",
            "        [     0,      0,      2,  22732,   8417,    573,    888,  13200, 235265],\n",
            "        [     2, 235285,  76272,    671,  10436,    578,  19040,    665, 235265],\n",
            "        [     0,      2,    651,  20723,   6011,    919,   1775,  14473, 235265],\n",
            "        [     0,      0,      2,  11372,   9777,    476,    888,   4601, 235265],\n",
            "        [     0,      0,      2,  75581,    603,    970,   7827,   9471, 235265]],\n",
            "       device='cuda:0'), 'attention_mask': tensor([[0, 0, 1, 1, 1, 1, 1, 1, 1],\n",
            "        [0, 0, 1, 1, 1, 1, 1, 1, 1],\n",
            "        [1, 1, 1, 1, 1, 1, 1, 1, 1],\n",
            "        [0, 1, 1, 1, 1, 1, 1, 1, 1],\n",
            "        [0, 0, 1, 1, 1, 1, 1, 1, 1],\n",
            "        [0, 0, 1, 1, 1, 1, 1, 1, 1]], device='cuda:0')}\n",
            "(6, 2304)\n"
          ]
        },
        {
          "data": {
            "image/png": "[encoded data removed]",
            "text/plain": [
              "<Figure size 800x600 with 1 Axes>"
            ]
          },
          "metadata": {},
          "output_type": "display_data"
        }
      ],
      "source": [
        "from transformers import AutoModelForCausalLM, AutoTokenizer\n",
        "import torch\n",
        "from sklearn.manifold import TSNE\n",
        "import matplotlib.pyplot as plt\n",
        "\n",
        "device = \"cuda\" if torch.cuda.is_available() else \"cpu\"\n",
        "model.to(device)\n",
        "\n",
        "######################## (Q5.2 ~ 5.3) ########################\n",
        "# Sentences with different meanings of words\n",
        "sentences = [\n",
        "    \"I ate a fresh apple.\",  # Apple (fruit)\n",
        "    \"Apple released the new iPhone.\",  # Apple (company)\n",
        "    \"I peeled an orange and ate it.\",  # Orange (fruit)\n",
        "    \"The Orange network has great coverage.\",  # Orange (telecom)\n",
        "    \"Microsoft announced a new update.\",  # Microsoft (company)\n",
        "    \"Banana is my favorite fruit.\",  # Banana (fruit)\n",
        "]\n",
        "\n",
        "# Tokenize and move to device\n",
        "inputs = tokenizer(sentences, return_tensors=\"pt\", padding=True, truncation=True)\n",
        "inputs = inputs.to(device)\n",
        "print(inputs)\n",
        "# Get hidden states\n",
        "with torch.no_grad():\n",
        "    outputs = model(**inputs, output_hidden_states=True)\n",
        "# print(outputs)\n",
        "\n",
        "hidden_states = outputs.hidden_states[-1]  # Extract last layer embeddings\n",
        "\n",
        "# Compute sentence-level embeddings (mean pooling)\n",
        "sentence_embeddings = hidden_states.mean(dim=1).cpu().numpy()\n",
        "print(sentence_embeddings.shape)\n",
        "\n",
        "# Words to visualize\n",
        "word_labels = [\n",
        "    \"Apple (fruit)\", \"Apple (company)\",\n",
        "    \"Orange (fruit)\", \"Orange (telecom)\",\n",
        "    \"Microsoft (company)\", \"Banana (fruit)\"\n",
        "]\n",
        "\n",
        "# Reduce to 2D using t-SNE\n",
        "tsne = TSNE(n_components=2, perplexity=2, random_state=42)\n",
        "embeddings_2d = tsne.fit_transform(sentence_embeddings)\n",
        "\n",
        "# Plot the embeddings\n",
        "plt.figure(figsize=(8, 6))\n",
        "colors = [\"red\", \"blue\", \"orange\", \"purple\", \"green\", \"brown\"]\n",
        "for i, label in enumerate(word_labels):\n",
        "    plt.scatter(embeddings_2d[i, 0], embeddings_2d[i, 1], color=colors[i], s=100)\n",
        "    plt.text(embeddings_2d[i, 0] + 0.1, embeddings_2d[i, 1] + 0.1, label, fontsize=12, color=colors[i])\n",
        "\n",
        "plt.xlabel(\"t-SNE Dim 1\")\n",
        "plt.ylabel(\"t-SNE Dim 2\")\n",
        "plt.title(\"t-SNE Visualization of Word Embeddings\")\n",
        "plt.show()\n",
        "##################################################"
      ]
    },
    {
      "cell_type": "markdown",
      "metadata": {
        "id": "EYDqomF2YWyX"
      },
      "source": [
        "## Q6: Observe the Attention Weight"
      ]
    },
    {
      "cell_type": "code",
      "execution_count": 31,
      "metadata": {
        "collapsed": true,
        "id": "R9nEUAHOYRU_"
      },
      "outputs": [
        {
          "name": "stdout",
          "output_type": "stream",
          "text": [
            "Input_IDs_Shape: torch.Size([1, 3])\n",
            "Output_Logits_Shape: torch.Size([1, 3, 256000])\n",
            "Output_Attention_Scores_Shape: 26\n",
            "Output_Attention_Scores_Shape: torch.Size([1, 8, 3, 22])\n",
            "Output_Logits_Shape: torch.Size([1, 1, 256000])\n",
            "Output_Attention_Scores_Shape: 26\n",
            "Output_Attention_Scores_Shape: torch.Size([1, 8, 1, 22])\n",
            "Output_Logits_Shape: torch.Size([1, 1, 256000])\n",
            "Output_Attention_Scores_Shape: 26\n",
            "Output_Attention_Scores_Shape: torch.Size([1, 8, 1, 22])\n",
            "Output_Logits_Shape: torch.Size([1, 1, 256000])\n",
            "Output_Attention_Scores_Shape: 26\n",
            "Output_Attention_Scores_Shape: torch.Size([1, 8, 1, 22])\n",
            "Output_Logits_Shape: torch.Size([1, 1, 256000])\n",
            "Output_Attention_Scores_Shape: 26\n",
            "Output_Attention_Scores_Shape: torch.Size([1, 8, 1, 22])\n",
            "Output_Logits_Shape: torch.Size([1, 1, 256000])\n",
            "Output_Attention_Scores_Shape: 26\n",
            "Output_Attention_Scores_Shape: torch.Size([1, 8, 1, 22])\n",
            "Output_Logits_Shape: torch.Size([1, 1, 256000])\n",
            "Output_Attention_Scores_Shape: 26\n",
            "Output_Attention_Scores_Shape: torch.Size([1, 8, 1, 22])\n",
            "Output_Logits_Shape: torch.Size([1, 1, 256000])\n",
            "Output_Attention_Scores_Shape: 26\n",
            "Output_Attention_Scores_Shape: torch.Size([1, 8, 1, 22])\n",
            "Output_Logits_Shape: torch.Size([1, 1, 256000])\n",
            "Output_Attention_Scores_Shape: 26\n",
            "Output_Attention_Scores_Shape: torch.Size([1, 8, 1, 22])\n",
            "Output_Logits_Shape: torch.Size([1, 1, 256000])\n",
            "Output_Attention_Scores_Shape: 26\n",
            "Output_Attention_Scores_Shape: torch.Size([1, 8, 1, 22])\n",
            "Output_Logits_Shape: torch.Size([1, 1, 256000])\n",
            "Output_Attention_Scores_Shape: 26\n",
            "Output_Attention_Scores_Shape: torch.Size([1, 8, 1, 22])\n",
            "Output_Logits_Shape: torch.Size([1, 1, 256000])\n",
            "Output_Attention_Scores_Shape: 26\n",
            "Output_Attention_Scores_Shape: torch.Size([1, 8, 1, 22])\n",
            "Output_Logits_Shape: torch.Size([1, 1, 256000])\n",
            "Output_Attention_Scores_Shape: 26\n",
            "Output_Attention_Scores_Shape: torch.Size([1, 8, 1, 22])\n",
            "Output_Logits_Shape: torch.Size([1, 1, 256000])\n",
            "Output_Attention_Scores_Shape: 26\n",
            "Output_Attention_Scores_Shape: torch.Size([1, 8, 1, 22])\n",
            "Output_Logits_Shape: torch.Size([1, 1, 256000])\n",
            "Output_Attention_Scores_Shape: 26\n",
            "Output_Attention_Scores_Shape: torch.Size([1, 8, 1, 22])\n",
            "Output_Logits_Shape: torch.Size([1, 1, 256000])\n",
            "Output_Attention_Scores_Shape: 26\n",
            "Output_Attention_Scores_Shape: torch.Size([1, 8, 1, 22])\n",
            "Output_Logits_Shape: torch.Size([1, 1, 256000])\n",
            "Output_Attention_Scores_Shape: 26\n",
            "Output_Attention_Scores_Shape: torch.Size([1, 8, 1, 22])\n",
            "Output_Logits_Shape: torch.Size([1, 1, 256000])\n",
            "Output_Attention_Scores_Shape: 26\n",
            "Output_Attention_Scores_Shape: torch.Size([1, 8, 1, 22])\n",
            "Output_Logits_Shape: torch.Size([1, 1, 256000])\n",
            "Output_Attention_Scores_Shape: 26\n",
            "Output_Attention_Scores_Shape: torch.Size([1, 8, 1, 22])\n",
            "Output_Logits_Shape: torch.Size([1, 1, 256000])\n",
            "Output_Attention_Scores_Shape: 26\n",
            "Output_Attention_Scores_Shape: torch.Size([1, 8, 1, 22])\n"
          ]
        },
        {
          "data": {
            "image/png": "[encoded data removed]",
            "text/plain": [
              "<Figure size 1000x800 with 2 Axes>"
            ]
          },
          "metadata": {},
          "output_type": "display_data"
        }
      ],
      "source": [
        "# Import necessary libraries\n",
        "import torch\n",
        "import seaborn as sns\n",
        "import matplotlib.pyplot as plt\n",
        "import numpy as np\n",
        "from transformers import AutoModelForCausalLM, AutoTokenizer\n",
        "from tqdm import trange\n",
        "from sklearn.decomposition import PCA\n",
        "\n",
        "# Input prompt for text generation\n",
        "prompt = \"Google \"\n",
        "input_ids = tokenizer(prompt, return_tensors=\"pt\")  # Tokenize the input prompt\n",
        "next_token_id = input_ids.input_ids.to(\"cuda\")  # Move input token ids to GPU\n",
        "attention_mask = input_ids.attention_mask.to(\"cuda\")  # Move attention mask to GPU\n",
        "cache_position = torch.arange(attention_mask.shape[1], device=\"cuda\")  # Position for the KV cache\n",
        "\n",
        "print(f'Input_IDs_Shape: {input_ids.input_ids.shape}')\n",
        "\n",
        "# Set the number of tokens to generate and other parameters\n",
        "generation_tokens = 20  # Limit for visualization (number of tokens to generate)\n",
        "total_tokens = generation_tokens + next_token_id.size(1) - 1  # Total tokens to handle\n",
        "layer_idx = 10  # Specify the layer index for attention visualization\n",
        "head_idx = 7  # Specify the attention head index to visualize\n",
        "\n",
        "# KV cache setup for caching key/values across time steps\n",
        "from transformers.cache_utils import HybridCache\n",
        "kv_cache = HybridCache(config=model.config, max_batch_size=1, max_cache_len=total_tokens, device=\"cuda\", dtype=torch.float16)\n",
        "# print(next_token_id.shape)\n",
        "\n",
        "generated_tokens = []  # List to store generated tokens\n",
        "attentions = None  # Placeholder to store attention weights\n",
        "\n",
        "num_new_tokens = 0  # Counter for the number of new tokens generated\n",
        "model.eval()  # Set the model to evaluation mode\n",
        "\n",
        "# Generate tokens and collect attention weights for visualization\n",
        "for num_new_tokens in range(generation_tokens):\n",
        "    with torch.no_grad():  # Disable gradients during inference for efficiency\n",
        "        # Pass the input through the model to get the next token prediction and attention weights\n",
        "        outputs = model(\n",
        "            next_token_id,\n",
        "            attention_mask=attention_mask,\n",
        "            cache_position=cache_position,\n",
        "            use_cache=True,  # Use the KV cache for efficiency\n",
        "            past_key_values=kv_cache,  # Provide the cached key-value pairs for fast inference\n",
        "            output_attentions=True  # Enable the extraction of attention weights\n",
        "        )\n",
        "\n",
        "    ######################## TODO (Q6.1 ~ 6.4) ########################\n",
        "    ### You can refer to https://huggingface.co/docs/transformers/en/main_classes/output#transformers.modeling_outputs.BaseModelOutput.attentions to see the structure of model output attentions\n",
        "    # Get the logits for the last generated token from outputs\n",
        "    print(f'Output_Logits_Shape: {outputs.logits.shape}')\n",
        "    logits = outputs.logits[:, -1, :]\n",
        "    # Extract the attention scores from the model's outputs\n",
        "    attention_scores = outputs.attentions  # This contains the attention scores for all layers and heads\n",
        "    print(f'Output_Attention_Scores_Shape: {len(attention_scores)}')\n",
        "    print(f'Output_Attention_Scores_Shape: {attention_scores[layer_idx].shape}')\n",
        "    ###################################################################\n",
        "\n",
        "    # Extract attention weights for the specified layer and head\n",
        "    last_layer_attention = attention_scores[layer_idx][0][head_idx].detach().cpu().numpy()\n",
        "\n",
        "    # If it's the first generated token, initialize the attentions array\n",
        "    if num_new_tokens == 0:\n",
        "        attentions = last_layer_attention\n",
        "    else:\n",
        "        # Append the current attention weights to the existing array\n",
        "        attentions = np.append(attentions, last_layer_attention, axis=0)\n",
        "\n",
        "    # Choose the next token to generate based on the highest probability (logits)\n",
        "    next_token_id = logits.argmax(dim=-1)\n",
        "    generated_tokens.append(next_token_id.item())  # Add the token ID to the generated tokens list\n",
        "\n",
        "    # Update the attention mask and next token ID for the next iteration\n",
        "    attention_mask = torch.cat([attention_mask, torch.ones(1, 1, device=\"cuda\")], dim=-1)  # Add a new attention mask for the generated token\n",
        "    next_token_id = next_token_id.unsqueeze(0)  # Convert the token ID to the required shape\n",
        "\n",
        "    # Update the KV cache with the new past key-values\n",
        "    kv_cache = outputs.past_key_values\n",
        "    cache_position = cache_position[-1:] + 1  # Update the cache position for the next iteration\n",
        "\n",
        "# Decode the generated tokens into human-readable text\n",
        "generated_text = tokenizer.decode(generated_tokens, skip_special_tokens=True)\n",
        "full_text = prompt + generated_text  # Combine the prompt with the generated text\n",
        "\n",
        "# Tokenize all the generated text (prompt + generated)\n",
        "tokens = tokenizer.tokenize(full_text)\n",
        "\n",
        "# Function to plot a heatmap of attention weights\n",
        "def plot_attention(attn_matrix, tokens, title=\"Attention Heatmap\"):\n",
        "    plt.figure(figsize=(10, 8))  # Set the figure size\n",
        "    sns.heatmap(attn_matrix, xticklabels=tokens, yticklabels=tokens, cmap=\"viridis\", annot=False)  # Plot the attention matrix as a heatmap\n",
        "    plt.xlabel(\"Key Tokens\")\n",
        "    plt.ylabel(\"Query Tokens\")\n",
        "    plt.title(title)\n",
        "    plt.xticks(rotation=45)  # Rotate x-axis labels for better visibility\n",
        "    plt.yticks(rotation=0)  # Rotate y-axis labels\n",
        "    plt.show()\n",
        "\n",
        "# Plot the attention heatmap for the last generated token\n",
        "plot_attention(attentions, tokens, title=f\"Attention Weights for Generated Token of Layer {layer_idx}\")"
      ]
    },
    {
      "cell_type": "markdown",
      "metadata": {
        "id": "zz2z5Q4TYlyE"
      },
      "source": [
        "## Q7: Observe the Activation Scores"
      ]
    },
    {
      "cell_type": "markdown",
      "metadata": {
        "id": "Q2li0_FBwbit"
      },
      "source": [
        "The following code is referred from official Gemma tutorials: [Gemma Tutorial From Scratch](https://colab.research.google.com/drive/17dQFYUYnuKnP6OwQPH9v_GSYUW5aj-Rp#scrollTo=2-i7YRVLgKoT) and [SAELens](https://github.com/jbloomAus/SAELens/blob/main/tutorials/tutorial_2_0.ipynb)"
      ]
    },
    {
      "cell_type": "code",
      "execution_count": 32,
      "metadata": {
        "collapsed": true,
        "id": "1a3DM4RXYxcE"
      },
      "outputs": [
        {
          "name": "stderr",
          "output_type": "stream",
          "text": [
            "huggingface/tokenizers: The current process just got forked, after parallelism has already been used. Disabling parallelism to avoid deadlocks...\n",
            "To disable this warning, you can either:\n",
            "\t- Avoid using `tokenizers` before the fork if possible\n",
            "\t- Explicitly set the environment variable TOKENIZERS_PARALLELISM=(true | false)\n"
          ]
        },
        {
          "name": "stdout",
          "output_type": "stream",
          "text": [
            "Collecting sae-lens\n",
            "  Downloading sae_lens-5.10.2-py3-none-any.whl.metadata (5.3 kB)\n",
            "Collecting automated-interpretability<1.0.0,>=0.0.5 (from sae-lens)\n",
            "  Downloading automated_interpretability-0.0.9-py3-none-any.whl.metadata (822 bytes)\n",
            "Collecting babe<0.0.8,>=0.0.7 (from sae-lens)\n",
            "  Downloading babe-0.0.7-py3-none-any.whl.metadata (10 kB)\n",
            "Collecting datasets<3.0.0,>=2.17.1 (from sae-lens)\n",
            "  Downloading datasets-2.21.0-py3-none-any.whl.metadata (21 kB)\n",
            "Requirement already satisfied: matplotlib<4.0.0,>=3.8.3 in /home/jtss/.conda/envs/lab_training/lib/python3.10/site-packages (from sae-lens) (3.10.0)\n",
            "Requirement already satisfied: matplotlib-inline<0.2.0,>=0.1.6 in /home/jtss/.conda/envs/lab_training/lib/python3.10/site-packages (from sae-lens) (0.1.7)\n",
            "Requirement already satisfied: nltk<4.0.0,>=3.8.1 in /home/jtss/.conda/envs/lab_training/lib/python3.10/site-packages (from sae-lens) (3.9.1)\n",
            "Collecting plotly<6.0.0,>=5.19.0 (from sae-lens)\n",
            "  Downloading plotly-5.24.1-py3-none-any.whl.metadata (7.3 kB)\n",
            "Collecting plotly-express<0.5.0,>=0.4.1 (from sae-lens)\n",
            "  Downloading plotly_express-0.4.1-py2.py3-none-any.whl.metadata (1.7 kB)\n",
            "Collecting pytest-profiling<2.0.0,>=1.7.0 (from sae-lens)\n",
            "  Downloading pytest_profiling-1.8.1-py3-none-any.whl.metadata (15 kB)\n",
            "Requirement already satisfied: python-dotenv<2.0.0,>=1.0.1 in /home/jtss/.conda/envs/lab_training/lib/python3.10/site-packages (from sae-lens) (1.1.0)\n",
            "Collecting pyyaml<7.0.0,>=6.0.1 (from sae-lens)\n",
            "  Downloading PyYAML-6.0.2-cp310-cp310-manylinux_2_17_x86_64.manylinux2014_x86_64.whl.metadata (2.1 kB)\n",
            "Collecting pyzmq==26.0.0 (from sae-lens)\n",
            "  Downloading pyzmq-26.0.0-cp310-cp310-manylinux_2_28_x86_64.whl.metadata (6.2 kB)\n",
            "Requirement already satisfied: safetensors<0.5.0,>=0.4.2 in /home/jtss/.local/lib/python3.10/site-packages (from sae-lens) (0.4.3)\n",
            "Collecting simple-parsing<0.2.0,>=0.1.6 (from sae-lens)\n",
            "  Downloading simple_parsing-0.1.7-py3-none-any.whl.metadata (7.3 kB)\n",
            "Collecting transformer-lens<3.0.0,>=2.0.0 (from sae-lens)\n",
            "  Downloading transformer_lens-2.15.4-py3-none-any.whl.metadata (12 kB)\n",
            "Requirement already satisfied: transformers<5.0.0,>=4.38.1 in /home/jtss/.conda/envs/lab_training/lib/python3.10/site-packages (from sae-lens) (4.47.0)\n",
            "Collecting typer<0.13.0,>=0.12.3 (from sae-lens)\n",
            "  Downloading typer-0.12.5-py3-none-any.whl.metadata (15 kB)\n",
            "Requirement already satisfied: typing-extensions<5.0.0,>=4.10.0 in /home/jtss/.conda/envs/lab_training/lib/python3.10/site-packages (from sae-lens) (4.12.2)\n",
            "Collecting zstandard<0.23.0,>=0.22.0 (from sae-lens)\n",
            "  Downloading zstandard-0.22.0-cp310-cp310-manylinux_2_17_x86_64.manylinux2014_x86_64.whl.metadata (2.9 kB)\n",
            "Collecting blobfile<3.0.0,>=2.1.1 (from automated-interpretability<1.0.0,>=0.0.5->sae-lens)\n",
            "  Downloading blobfile-2.1.1-py3-none-any.whl.metadata (15 kB)\n",
            "Collecting boostedblob<0.16.0,>=0.15.3 (from automated-interpretability<1.0.0,>=0.0.5->sae-lens)\n",
            "  Downloading boostedblob-0.15.6-py3-none-any.whl.metadata (2.0 kB)\n",
            "Collecting httpx<0.28.0,>=0.27.0 (from automated-interpretability<1.0.0,>=0.0.5->sae-lens)\n",
            "  Downloading httpx-0.27.2-py3-none-any.whl.metadata (7.1 kB)\n",
            "Requirement already satisfied: numpy<2.0.0,>=1.24.0 in /home/jtss/.conda/envs/lab_training/lib/python3.10/site-packages (from automated-interpretability<1.0.0,>=0.0.5->sae-lens) (1.24.4)\n",
            "Collecting orjson<4.0.0,>=3.10.1 (from automated-interpretability<1.0.0,>=0.0.5->sae-lens)\n",
            "  Downloading orjson-3.10.18-cp310-cp310-manylinux_2_17_x86_64.manylinux2014_x86_64.whl.metadata (41 kB)\n",
            "Collecting scikit-learn<2.0.0,>=1.2.0 (from automated-interpretability<1.0.0,>=0.0.5->sae-lens)\n",
            "  Downloading scikit_learn-1.6.1-cp310-cp310-manylinux_2_17_x86_64.manylinux2014_x86_64.whl.metadata (18 kB)\n",
            "Collecting tiktoken>=0.6.0 (from automated-interpretability<1.0.0,>=0.0.5->sae-lens)\n",
            "  Downloading tiktoken-0.9.0-cp310-cp310-manylinux_2_17_x86_64.manylinux2014_x86_64.whl.metadata (6.7 kB)\n",
            "Requirement already satisfied: pandas in /home/jtss/.conda/envs/lab_training/lib/python3.10/site-packages (from babe<0.0.8,>=0.0.7->sae-lens) (1.4.4)\n",
            "Collecting py2store (from babe<0.0.8,>=0.0.7->sae-lens)\n",
            "  Downloading py2store-0.1.20.tar.gz (143 kB)\n",
            "  Preparing metadata (setup.py) ... \u001b[?25ldone\n",
            "\u001b[?25hCollecting graze (from babe<0.0.8,>=0.0.7->sae-lens)\n",
            "  Downloading graze-0.1.29-py3-none-any.whl.metadata (6.7 kB)\n",
            "Requirement already satisfied: filelock in /home/jtss/.conda/envs/lab_training/lib/python3.10/site-packages (from datasets<3.0.0,>=2.17.1->sae-lens) (3.17.0)\n",
            "Requirement already satisfied: pyarrow>=15.0.0 in /home/jtss/.conda/envs/lab_training/lib/python3.10/site-packages (from datasets<3.0.0,>=2.17.1->sae-lens) (19.0.0)\n",
            "Requirement already satisfied: dill<0.3.9,>=0.3.0 in /home/jtss/.conda/envs/lab_training/lib/python3.10/site-packages (from datasets<3.0.0,>=2.17.1->sae-lens) (0.3.6)\n",
            "Requirement already satisfied: requests>=2.32.2 in /home/jtss/.conda/envs/lab_training/lib/python3.10/site-packages (from datasets<3.0.0,>=2.17.1->sae-lens) (2.32.3)\n",
            "Requirement already satisfied: tqdm>=4.66.3 in /home/jtss/.conda/envs/lab_training/lib/python3.10/site-packages (from datasets<3.0.0,>=2.17.1->sae-lens) (4.67.1)\n",
            "Requirement already satisfied: xxhash in /home/jtss/.conda/envs/lab_training/lib/python3.10/site-packages (from datasets<3.0.0,>=2.17.1->sae-lens) (3.5.0)\n",
            "Requirement already satisfied: multiprocess in /home/jtss/.conda/envs/lab_training/lib/python3.10/site-packages (from datasets<3.0.0,>=2.17.1->sae-lens) (0.70.14)\n",
            "Collecting fsspec<=2024.6.1,>=2023.1.0 (from fsspec[http]<=2024.6.1,>=2023.1.0->datasets<3.0.0,>=2.17.1->sae-lens)\n",
            "  Downloading fsspec-2024.6.1-py3-none-any.whl.metadata (11 kB)\n",
            "Requirement already satisfied: aiohttp in /home/jtss/.conda/envs/lab_training/lib/python3.10/site-packages (from datasets<3.0.0,>=2.17.1->sae-lens) (3.11.10)\n",
            "Requirement already satisfied: huggingface-hub>=0.21.2 in /home/jtss/.conda/envs/lab_training/lib/python3.10/site-packages (from datasets<3.0.0,>=2.17.1->sae-lens) (0.29.2)\n",
            "Requirement already satisfied: packaging in /home/jtss/.conda/envs/lab_training/lib/python3.10/site-packages (from datasets<3.0.0,>=2.17.1->sae-lens) (24.2)\n",
            "Requirement already satisfied: contourpy>=1.0.1 in /home/jtss/.conda/envs/lab_training/lib/python3.10/site-packages (from matplotlib<4.0.0,>=3.8.3->sae-lens) (1.3.1)\n",
            "Requirement already satisfied: cycler>=0.10 in /home/jtss/.local/lib/python3.10/site-packages (from matplotlib<4.0.0,>=3.8.3->sae-lens) (0.12.1)\n",
            "Requirement already satisfied: fonttools>=4.22.0 in /home/jtss/.conda/envs/lab_training/lib/python3.10/site-packages (from matplotlib<4.0.0,>=3.8.3->sae-lens) (4.55.3)\n",
            "Requirement already satisfied: kiwisolver>=1.3.1 in /home/jtss/.conda/envs/lab_training/lib/python3.10/site-packages (from matplotlib<4.0.0,>=3.8.3->sae-lens) (1.4.8)\n",
            "Requirement already satisfied: pillow>=8 in /home/jtss/.conda/envs/lab_training/lib/python3.10/site-packages (from matplotlib<4.0.0,>=3.8.3->sae-lens) (11.1.0)\n",
            "Requirement already satisfied: pyparsing>=2.3.1 in /home/jtss/.conda/envs/lab_training/lib/python3.10/site-packages (from matplotlib<4.0.0,>=3.8.3->sae-lens) (3.2.0)\n",
            "Requirement already satisfied: python-dateutil>=2.7 in /home/jtss/.local/lib/python3.10/site-packages (from matplotlib<4.0.0,>=3.8.3->sae-lens) (2.9.0.post0)\n",
            "Requirement already satisfied: traitlets in /home/jtss/.conda/envs/lab_training/lib/python3.10/site-packages (from matplotlib-inline<0.2.0,>=0.1.6->sae-lens) (5.14.3)\n",
            "Requirement already satisfied: click in /home/jtss/.local/lib/python3.10/site-packages (from nltk<4.0.0,>=3.8.1->sae-lens) (8.1.7)\n",
            "Requirement already satisfied: joblib in /home/jtss/.local/lib/python3.10/site-packages (from nltk<4.0.0,>=3.8.1->sae-lens) (1.2.0)\n",
            "Requirement already satisfied: regex>=2021.8.3 in /home/jtss/.local/lib/python3.10/site-packages (from nltk<4.0.0,>=3.8.1->sae-lens) (2022.10.31)\n",
            "Collecting tenacity>=6.2.0 (from plotly<6.0.0,>=5.19.0->sae-lens)\n",
            "  Downloading tenacity-9.1.2-py3-none-any.whl.metadata (1.2 kB)\n",
            "Collecting statsmodels>=0.9.0 (from plotly-express<0.5.0,>=0.4.1->sae-lens)\n",
            "  Downloading statsmodels-0.14.4-cp310-cp310-manylinux_2_17_x86_64.manylinux2014_x86_64.whl.metadata (9.2 kB)\n",
            "Requirement already satisfied: scipy>=0.18 in /home/jtss/.local/lib/python3.10/site-packages (from plotly-express<0.5.0,>=0.4.1->sae-lens) (1.13.1)\n",
            "Collecting patsy>=0.5 (from plotly-express<0.5.0,>=0.4.1->sae-lens)\n",
            "  Downloading patsy-1.0.1-py2.py3-none-any.whl.metadata (3.3 kB)\n",
            "Requirement already satisfied: six in /home/jtss/.conda/envs/lab_training/lib/python3.10/site-packages (from pytest-profiling<2.0.0,>=1.7.0->sae-lens) (1.17.0)\n",
            "Collecting pytest (from pytest-profiling<2.0.0,>=1.7.0->sae-lens)\n",
            "  Downloading pytest-8.3.5-py3-none-any.whl.metadata (7.6 kB)\n",
            "Collecting gprof2dot (from pytest-profiling<2.0.0,>=1.7.0->sae-lens)\n",
            "  Downloading gprof2dot-2025.4.14-py3-none-any.whl.metadata (19 kB)\n",
            "Collecting docstring-parser<1.0,>=0.15 (from simple-parsing<0.2.0,>=0.1.6->sae-lens)\n",
            "  Downloading docstring_parser-0.16-py3-none-any.whl.metadata (3.0 kB)\n",
            "Requirement already satisfied: accelerate>=0.23.0 in /home/jtss/.conda/envs/lab_training/lib/python3.10/site-packages (from transformer-lens<3.0.0,>=2.0.0->sae-lens) (1.6.0)\n",
            "Collecting beartype<0.15.0,>=0.14.1 (from transformer-lens<3.0.0,>=2.0.0->sae-lens)\n",
            "  Downloading beartype-0.14.1-py3-none-any.whl.metadata (28 kB)\n",
            "Collecting better-abc<0.0.4,>=0.0.3 (from transformer-lens<3.0.0,>=2.0.0->sae-lens)\n",
            "  Downloading better_abc-0.0.3-py3-none-any.whl.metadata (1.4 kB)\n",
            "Collecting einops>=0.6.0 (from transformer-lens<3.0.0,>=2.0.0->sae-lens)\n",
            "  Using cached einops-0.8.1-py3-none-any.whl.metadata (13 kB)\n",
            "Collecting fancy-einsum>=0.0.3 (from transformer-lens<3.0.0,>=2.0.0->sae-lens)\n",
            "  Downloading fancy_einsum-0.0.3-py3-none-any.whl.metadata (1.2 kB)\n",
            "Collecting jaxtyping>=0.2.11 (from transformer-lens<3.0.0,>=2.0.0->sae-lens)\n",
            "  Downloading jaxtyping-0.3.2-py3-none-any.whl.metadata (7.0 kB)\n",
            "Requirement already satisfied: rich>=12.6.0 in /home/jtss/.conda/envs/lab_training/lib/python3.10/site-packages (from transformer-lens<3.0.0,>=2.0.0->sae-lens) (13.9.4)\n",
            "Requirement already satisfied: sentencepiece in /home/jtss/.conda/envs/lab_training/lib/python3.10/site-packages (from transformer-lens<3.0.0,>=2.0.0->sae-lens) (0.1.99)\n",
            "Requirement already satisfied: torch>=2.2 in /home/jtss/.conda/envs/lab_training/lib/python3.10/site-packages (from transformer-lens<3.0.0,>=2.0.0->sae-lens) (2.5.0)\n",
            "Collecting transformers-stream-generator<0.0.6,>=0.0.5 (from transformer-lens<3.0.0,>=2.0.0->sae-lens)\n",
            "  Downloading transformers-stream-generator-0.0.5.tar.gz (13 kB)\n",
            "  Preparing metadata (setup.py) ... \u001b[?25ldone\n",
            "\u001b[?25hCollecting typeguard<5.0,>=4.2 (from transformer-lens<3.0.0,>=2.0.0->sae-lens)\n",
            "  Downloading typeguard-4.4.2-py3-none-any.whl.metadata (3.8 kB)\n",
            "Requirement already satisfied: wandb>=0.13.5 in /home/jtss/.conda/envs/lab_training/lib/python3.10/site-packages (from transformer-lens<3.0.0,>=2.0.0->sae-lens) (0.19.10)\n",
            "Requirement already satisfied: tokenizers<0.22,>=0.21 in /home/jtss/.conda/envs/lab_training/lib/python3.10/site-packages (from transformers<5.0.0,>=4.38.1->sae-lens) (0.21.1)\n",
            "Collecting shellingham>=1.3.0 (from typer<0.13.0,>=0.12.3->sae-lens)\n",
            "  Downloading shellingham-1.5.4-py2.py3-none-any.whl.metadata (3.5 kB)\n",
            "Requirement already satisfied: psutil in /home/jtss/.local/lib/python3.10/site-packages (from accelerate>=0.23.0->transformer-lens<3.0.0,>=2.0.0->sae-lens) (5.9.4)\n",
            "Requirement already satisfied: pycryptodomex~=3.8 in /home/jtss/.conda/envs/lab_training/lib/python3.10/site-packages (from blobfile<3.0.0,>=2.1.1->automated-interpretability<1.0.0,>=0.0.5->sae-lens) (3.21.0)\n",
            "Requirement already satisfied: urllib3<3,>=1.25.3 in /home/jtss/.conda/envs/lab_training/lib/python3.10/site-packages (from blobfile<3.0.0,>=2.1.1->automated-interpretability<1.0.0,>=0.0.5->sae-lens) (2.3.0)\n",
            "Collecting lxml~=4.9 (from blobfile<3.0.0,>=2.1.1->automated-interpretability<1.0.0,>=0.0.5->sae-lens)\n",
            "  Downloading lxml-4.9.4-cp310-cp310-manylinux_2_28_x86_64.whl.metadata (3.7 kB)\n",
            "Collecting uvloop>=0.16.0 (from boostedblob<0.16.0,>=0.15.3->automated-interpretability<1.0.0,>=0.0.5->sae-lens)\n",
            "  Downloading uvloop-0.21.0-cp310-cp310-manylinux_2_17_x86_64.manylinux2014_x86_64.whl.metadata (4.9 kB)\n",
            "Requirement already satisfied: aiohappyeyeballs>=2.3.0 in /home/jtss/.conda/envs/lab_training/lib/python3.10/site-packages (from aiohttp->datasets<3.0.0,>=2.17.1->sae-lens) (2.4.4)\n",
            "Requirement already satisfied: aiosignal>=1.1.2 in /home/jtss/.conda/envs/lab_training/lib/python3.10/site-packages (from aiohttp->datasets<3.0.0,>=2.17.1->sae-lens) (1.2.0)\n",
            "Requirement already satisfied: attrs>=17.3.0 in /home/jtss/.conda/envs/lab_training/lib/python3.10/site-packages (from aiohttp->datasets<3.0.0,>=2.17.1->sae-lens) (25.3.0)\n",
            "Requirement already satisfied: frozenlist>=1.1.1 in /home/jtss/.conda/envs/lab_training/lib/python3.10/site-packages (from aiohttp->datasets<3.0.0,>=2.17.1->sae-lens) (1.5.0)\n",
            "Requirement already satisfied: multidict<7.0,>=4.5 in /home/jtss/.conda/envs/lab_training/lib/python3.10/site-packages (from aiohttp->datasets<3.0.0,>=2.17.1->sae-lens) (6.1.0)\n",
            "Requirement already satisfied: propcache>=0.2.0 in /home/jtss/.conda/envs/lab_training/lib/python3.10/site-packages (from aiohttp->datasets<3.0.0,>=2.17.1->sae-lens) (0.3.1)\n",
            "Requirement already satisfied: yarl<2.0,>=1.17.0 in /home/jtss/.conda/envs/lab_training/lib/python3.10/site-packages (from aiohttp->datasets<3.0.0,>=2.17.1->sae-lens) (1.18.0)\n",
            "Requirement already satisfied: async-timeout<6.0,>=4.0 in /home/jtss/.conda/envs/lab_training/lib/python3.10/site-packages (from aiohttp->datasets<3.0.0,>=2.17.1->sae-lens) (5.0.1)\n",
            "Requirement already satisfied: anyio in /home/jtss/.conda/envs/lab_training/lib/python3.10/site-packages (from httpx<0.28.0,>=0.27.0->automated-interpretability<1.0.0,>=0.0.5->sae-lens) (3.7.1)\n",
            "Requirement already satisfied: certifi in /home/jtss/.conda/envs/lab_training/lib/python3.10/site-packages (from httpx<0.28.0,>=0.27.0->automated-interpretability<1.0.0,>=0.0.5->sae-lens) (2025.4.26)\n",
            "Collecting httpcore==1.* (from httpx<0.28.0,>=0.27.0->automated-interpretability<1.0.0,>=0.0.5->sae-lens)\n",
            "  Downloading httpcore-1.0.9-py3-none-any.whl.metadata (21 kB)\n",
            "Requirement already satisfied: idna in /home/jtss/.conda/envs/lab_training/lib/python3.10/site-packages (from httpx<0.28.0,>=0.27.0->automated-interpretability<1.0.0,>=0.0.5->sae-lens) (3.7)\n",
            "Requirement already satisfied: sniffio in /home/jtss/.conda/envs/lab_training/lib/python3.10/site-packages (from httpx<0.28.0,>=0.27.0->automated-interpretability<1.0.0,>=0.0.5->sae-lens) (1.3.1)\n",
            "Collecting h11>=0.16 (from httpcore==1.*->httpx<0.28.0,>=0.27.0->automated-interpretability<1.0.0,>=0.0.5->sae-lens)\n",
            "  Downloading h11-0.16.0-py3-none-any.whl.metadata (8.3 kB)\n",
            "Collecting wadler-lindig>=0.1.3 (from jaxtyping>=0.2.11->transformer-lens<3.0.0,>=2.0.0->sae-lens)\n",
            "  Downloading wadler_lindig-0.1.6-py3-none-any.whl.metadata (17 kB)\n",
            "Requirement already satisfied: pytz>=2020.1 in /home/jtss/.conda/envs/lab_training/lib/python3.10/site-packages (from pandas->babe<0.0.8,>=0.0.7->sae-lens) (2025.2)\n",
            "Requirement already satisfied: charset-normalizer<4,>=2 in /home/jtss/.local/lib/python3.10/site-packages (from requests>=2.32.2->datasets<3.0.0,>=2.17.1->sae-lens) (2.1.1)\n",
            "Requirement already satisfied: markdown-it-py>=2.2.0 in /home/jtss/.conda/envs/lab_training/lib/python3.10/site-packages (from rich>=12.6.0->transformer-lens<3.0.0,>=2.0.0->sae-lens) (2.2.0)\n",
            "Requirement already satisfied: pygments<3.0.0,>=2.13.0 in /home/jtss/.conda/envs/lab_training/lib/python3.10/site-packages (from rich>=12.6.0->transformer-lens<3.0.0,>=2.0.0->sae-lens) (2.19.1)\n",
            "Requirement already satisfied: threadpoolctl>=3.1.0 in /home/jtss/.local/lib/python3.10/site-packages (from scikit-learn<2.0.0,>=1.2.0->automated-interpretability<1.0.0,>=0.0.5->sae-lens) (3.1.0)\n",
            "Requirement already satisfied: networkx in /home/jtss/.conda/envs/lab_training/lib/python3.10/site-packages (from torch>=2.2->transformer-lens<3.0.0,>=2.0.0->sae-lens) (3.4.2)\n",
            "Requirement already satisfied: jinja2 in /home/jtss/.conda/envs/lab_training/lib/python3.10/site-packages (from torch>=2.2->transformer-lens<3.0.0,>=2.0.0->sae-lens) (3.1.6)\n",
            "Requirement already satisfied: sympy==1.13.1 in /home/jtss/.conda/envs/lab_training/lib/python3.10/site-packages (from torch>=2.2->transformer-lens<3.0.0,>=2.0.0->sae-lens) (1.13.1)\n",
            "Requirement already satisfied: mpmath<1.4,>=1.1.0 in /home/jtss/.local/lib/python3.10/site-packages (from sympy==1.13.1->torch>=2.2->transformer-lens<3.0.0,>=2.0.0->sae-lens) (1.3.0)\n",
            "Requirement already satisfied: docker-pycreds>=0.4.0 in /home/jtss/.local/lib/python3.10/site-packages (from wandb>=0.13.5->transformer-lens<3.0.0,>=2.0.0->sae-lens) (0.4.0)\n",
            "Requirement already satisfied: gitpython!=3.1.29,>=1.0.0 in /home/jtss/.conda/envs/lab_training/lib/python3.10/site-packages (from wandb>=0.13.5->transformer-lens<3.0.0,>=2.0.0->sae-lens) (3.1.44)\n",
            "Requirement already satisfied: platformdirs in /home/jtss/.local/lib/python3.10/site-packages (from wandb>=0.13.5->transformer-lens<3.0.0,>=2.0.0->sae-lens) (4.2.2)\n",
            "Requirement already satisfied: protobuf!=4.21.0,!=5.28.0,<7,>=3.19.0 in /home/jtss/.conda/envs/lab_training/lib/python3.10/site-packages (from wandb>=0.13.5->transformer-lens<3.0.0,>=2.0.0->sae-lens) (6.30.2)\n",
            "Requirement already satisfied: pydantic<3 in /home/jtss/.conda/envs/lab_training/lib/python3.10/site-packages (from wandb>=0.13.5->transformer-lens<3.0.0,>=2.0.0->sae-lens) (2.11.4)\n",
            "Requirement already satisfied: sentry-sdk>=2.0.0 in /home/jtss/.local/lib/python3.10/site-packages (from wandb>=0.13.5->transformer-lens<3.0.0,>=2.0.0->sae-lens) (2.1.1)\n",
            "Requirement already satisfied: setproctitle in /home/jtss/.local/lib/python3.10/site-packages (from wandb>=0.13.5->transformer-lens<3.0.0,>=2.0.0->sae-lens) (1.3.3)\n",
            "Requirement already satisfied: setuptools in /home/jtss/.conda/envs/lab_training/lib/python3.10/site-packages (from wandb>=0.13.5->transformer-lens<3.0.0,>=2.0.0->sae-lens) (75.8.0)\n",
            "Collecting dol (from graze->babe<0.0.8,>=0.0.7->sae-lens)\n",
            "  Downloading dol-0.3.16-py3-none-any.whl.metadata (18 kB)\n",
            "Collecting config2py (from py2store->babe<0.0.8,>=0.0.7->sae-lens)\n",
            "  Downloading config2py-0.1.37-py3-none-any.whl.metadata (14 kB)\n",
            "Requirement already satisfied: importlib_resources in /home/jtss/.conda/envs/lab_training/lib/python3.10/site-packages (from py2store->babe<0.0.8,>=0.0.7->sae-lens) (6.5.2)\n",
            "Requirement already satisfied: exceptiongroup>=1.0.0rc8 in /home/jtss/.conda/envs/lab_training/lib/python3.10/site-packages (from pytest->pytest-profiling<2.0.0,>=1.7.0->sae-lens) (1.2.2)\n",
            "Collecting iniconfig (from pytest->pytest-profiling<2.0.0,>=1.7.0->sae-lens)\n",
            "  Downloading iniconfig-2.1.0-py3-none-any.whl.metadata (2.7 kB)\n",
            "Collecting pluggy<2,>=1.5 (from pytest->pytest-profiling<2.0.0,>=1.7.0->sae-lens)\n",
            "  Downloading pluggy-1.6.0-py3-none-any.whl.metadata (4.8 kB)\n",
            "Requirement already satisfied: tomli>=1 in /home/jtss/.local/lib/python3.10/site-packages (from pytest->pytest-profiling<2.0.0,>=1.7.0->sae-lens) (2.0.1)\n",
            "Requirement already satisfied: gitdb<5,>=4.0.1 in /home/jtss/.conda/envs/lab_training/lib/python3.10/site-packages (from gitpython!=3.1.29,>=1.0.0->wandb>=0.13.5->transformer-lens<3.0.0,>=2.0.0->sae-lens) (4.0.12)\n",
            "Requirement already satisfied: mdurl~=0.1 in /home/jtss/.conda/envs/lab_training/lib/python3.10/site-packages (from markdown-it-py>=2.2.0->rich>=12.6.0->transformer-lens<3.0.0,>=2.0.0->sae-lens) (0.1.0)\n",
            "Requirement already satisfied: annotated-types>=0.6.0 in /home/jtss/.conda/envs/lab_training/lib/python3.10/site-packages (from pydantic<3->wandb>=0.13.5->transformer-lens<3.0.0,>=2.0.0->sae-lens) (0.7.0)\n",
            "Requirement already satisfied: pydantic-core==2.33.2 in /home/jtss/.conda/envs/lab_training/lib/python3.10/site-packages (from pydantic<3->wandb>=0.13.5->transformer-lens<3.0.0,>=2.0.0->sae-lens) (2.33.2)\n",
            "Requirement already satisfied: typing-inspection>=0.4.0 in /home/jtss/.conda/envs/lab_training/lib/python3.10/site-packages (from pydantic<3->wandb>=0.13.5->transformer-lens<3.0.0,>=2.0.0->sae-lens) (0.4.0)\n",
            "Collecting i2 (from config2py->py2store->babe<0.0.8,>=0.0.7->sae-lens)\n",
            "  Downloading i2-0.1.46-py3-none-any.whl.metadata (2.1 kB)\n",
            "Requirement already satisfied: MarkupSafe>=2.0 in /home/jtss/.conda/envs/lab_training/lib/python3.10/site-packages (from jinja2->torch>=2.2->transformer-lens<3.0.0,>=2.0.0->sae-lens) (3.0.2)\n",
            "Requirement already satisfied: smmap<6,>=3.0.1 in /home/jtss/.local/lib/python3.10/site-packages (from gitdb<5,>=4.0.1->gitpython!=3.1.29,>=1.0.0->wandb>=0.13.5->transformer-lens<3.0.0,>=2.0.0->sae-lens) (5.0.1)\n",
            "Downloading sae_lens-5.10.2-py3-none-any.whl (131 kB)\n",
            "Downloading pyzmq-26.0.0-cp310-cp310-manylinux_2_28_x86_64.whl (920 kB)\n",
            "\u001b[2K   \u001b[90m━━━━━━━━━━━━━━━━━━━━━━━━━━━━━━━━━━━━━━━━\u001b[0m \u001b[32m920.0/920.0 kB\u001b[0m \u001b[31m6.5 MB/s\u001b[0m eta \u001b[36m0:00:00\u001b[0m\n",
            "\u001b[?25hDownloading automated_interpretability-0.0.9-py3-none-any.whl (66 kB)\n",
            "Downloading babe-0.0.7-py3-none-any.whl (6.9 kB)\n",
            "Downloading datasets-2.21.0-py3-none-any.whl (527 kB)\n",
            "\u001b[2K   \u001b[90m━━━━━━━━━━━━━━━━━━━━━━━━━━━━━━━━━━━━━━━━\u001b[0m \u001b[32m527.3/527.3 kB\u001b[0m \u001b[31m6.7 MB/s\u001b[0m eta \u001b[36m0:00:00\u001b[0m\n",
            "\u001b[?25hDownloading plotly-5.24.1-py3-none-any.whl (19.1 MB)\n",
            "\u001b[2K   \u001b[90m━━━━━━━━━━━━━━━━━━━━━━━━━━━━━━━━━━━━━━━━\u001b[0m \u001b[32m19.1/19.1 MB\u001b[0m \u001b[31m18.5 MB/s\u001b[0m eta \u001b[36m0:00:00\u001b[0m00:01\u001b[0m00:01\u001b[0m\n",
            "\u001b[?25hDownloading plotly_express-0.4.1-py2.py3-none-any.whl (2.9 kB)\n",
            "Downloading pytest_profiling-1.8.1-py3-none-any.whl (9.9 kB)\n",
            "Downloading PyYAML-6.0.2-cp310-cp310-manylinux_2_17_x86_64.manylinux2014_x86_64.whl (751 kB)\n",
            "\u001b[2K   \u001b[90m━━━━━━━━━━━━━━━━━━━━━━━━━━━━━━━━━━━━━━━━\u001b[0m \u001b[32m751.2/751.2 kB\u001b[0m \u001b[31m31.9 MB/s\u001b[0m eta \u001b[36m0:00:00\u001b[0m\n",
            "\u001b[?25hDownloading simple_parsing-0.1.7-py3-none-any.whl (112 kB)\n",
            "Downloading transformer_lens-2.15.4-py3-none-any.whl (189 kB)\n",
            "Downloading typer-0.12.5-py3-none-any.whl (47 kB)\n",
            "Downloading zstandard-0.22.0-cp310-cp310-manylinux_2_17_x86_64.manylinux2014_x86_64.whl (5.4 MB)\n",
            "\u001b[2K   \u001b[90m━━━━━━━━━━━━━━━━━━━━━━━━━━━━━━━━━━━━━━━━\u001b[0m \u001b[32m5.4/5.4 MB\u001b[0m \u001b[31m34.8 MB/s\u001b[0m eta \u001b[36m0:00:00\u001b[0m\n",
            "\u001b[?25hDownloading beartype-0.14.1-py3-none-any.whl (739 kB)\n",
            "\u001b[2K   \u001b[90m━━━━━━━━━━━━━━━━━━━━━━━━━━━━━━━━━━━━━━━━\u001b[0m \u001b[32m739.7/739.7 kB\u001b[0m \u001b[31m42.3 MB/s\u001b[0m eta \u001b[36m0:00:00\u001b[0m\n",
            "\u001b[?25hDownloading better_abc-0.0.3-py3-none-any.whl (3.5 kB)\n",
            "Downloading blobfile-2.1.1-py3-none-any.whl (73 kB)\n",
            "Downloading boostedblob-0.15.6-py3-none-any.whl (59 kB)\n",
            "Downloading docstring_parser-0.16-py3-none-any.whl (36 kB)\n",
            "Using cached einops-0.8.1-py3-none-any.whl (64 kB)\n",
            "Downloading fancy_einsum-0.0.3-py3-none-any.whl (6.2 kB)\n",
            "Downloading fsspec-2024.6.1-py3-none-any.whl (177 kB)\n",
            "Downloading httpx-0.27.2-py3-none-any.whl (76 kB)\n",
            "Downloading httpcore-1.0.9-py3-none-any.whl (78 kB)\n",
            "Downloading jaxtyping-0.3.2-py3-none-any.whl (55 kB)\n",
            "Downloading orjson-3.10.18-cp310-cp310-manylinux_2_17_x86_64.manylinux2014_x86_64.whl (132 kB)\n",
            "Downloading patsy-1.0.1-py2.py3-none-any.whl (232 kB)\n",
            "Downloading scikit_learn-1.6.1-cp310-cp310-manylinux_2_17_x86_64.manylinux2014_x86_64.whl (13.5 MB)\n",
            "\u001b[2K   \u001b[90m━━━━━━━━━━━━━━━━━━━━━━━━━━━━━━━━━━━━━━━━\u001b[0m \u001b[32m13.5/13.5 MB\u001b[0m \u001b[31m48.4 MB/s\u001b[0m eta \u001b[36m0:00:00\u001b[0ma \u001b[36m0:00:01\u001b[0m\n",
            "\u001b[?25hDownloading shellingham-1.5.4-py2.py3-none-any.whl (9.8 kB)\n",
            "Downloading statsmodels-0.14.4-cp310-cp310-manylinux_2_17_x86_64.manylinux2014_x86_64.whl (10.8 MB)\n",
            "\u001b[2K   \u001b[90m━━━━━━━━━━━━━━━━━━━━━━━━━━━━━━━━━━━━━━━━\u001b[0m \u001b[32m10.8/10.8 MB\u001b[0m \u001b[31m60.5 MB/s\u001b[0m eta \u001b[36m0:00:00\u001b[0m\n",
            "\u001b[?25hDownloading tenacity-9.1.2-py3-none-any.whl (28 kB)\n",
            "Downloading tiktoken-0.9.0-cp310-cp310-manylinux_2_17_x86_64.manylinux2014_x86_64.whl (1.2 MB)\n",
            "\u001b[2K   \u001b[90m━━━━━━━━━━━━━━━━━━━━━━━━━━━━━━━━━━━━━━━━\u001b[0m \u001b[32m1.2/1.2 MB\u001b[0m \u001b[31m61.8 MB/s\u001b[0m eta \u001b[36m0:00:00\u001b[0m\n",
            "\u001b[?25hDownloading typeguard-4.4.2-py3-none-any.whl (35 kB)\n",
            "Downloading gprof2dot-2025.4.14-py3-none-any.whl (37 kB)\n",
            "Downloading graze-0.1.29-py3-none-any.whl (19 kB)\n",
            "Downloading pytest-8.3.5-py3-none-any.whl (343 kB)\n",
            "Downloading lxml-4.9.4-cp310-cp310-manylinux_2_28_x86_64.whl (7.9 MB)\n",
            "\u001b[2K   \u001b[90m━━━━━━━━━━━━━━━━━━━━━━━━━━━━━━━━━━━━━━━━\u001b[0m \u001b[32m7.9/7.9 MB\u001b[0m \u001b[31m6.4 MB/s\u001b[0m eta \u001b[36m0:00:00\u001b[0ma \u001b[36m0:00:01\u001b[0mm\n",
            "\u001b[?25hDownloading pluggy-1.6.0-py3-none-any.whl (20 kB)\n",
            "Downloading uvloop-0.21.0-cp310-cp310-manylinux_2_17_x86_64.manylinux2014_x86_64.whl (3.8 MB)\n",
            "\u001b[2K   \u001b[90m━━━━━━━━━━━━━━━━━━━━━━━━━━━━━━━━━━━━━━━━\u001b[0m \u001b[32m3.8/3.8 MB\u001b[0m \u001b[31m74.1 MB/s\u001b[0m eta \u001b[36m0:00:00\u001b[0m\n",
            "\u001b[?25hDownloading wadler_lindig-0.1.6-py3-none-any.whl (20 kB)\n",
            "Downloading config2py-0.1.37-py3-none-any.whl (32 kB)\n",
            "Downloading dol-0.3.16-py3-none-any.whl (254 kB)\n",
            "Downloading iniconfig-2.1.0-py3-none-any.whl (6.0 kB)\n",
            "Downloading h11-0.16.0-py3-none-any.whl (37 kB)\n",
            "Downloading i2-0.1.46-py3-none-any.whl (202 kB)\n",
            "Building wheels for collected packages: transformers-stream-generator, py2store\n",
            "  Building wheel for transformers-stream-generator (setup.py) ... \u001b[?25ldone\n",
            "\u001b[?25h  Created wheel for transformers-stream-generator: filename=transformers_stream_generator-0.0.5-py3-none-any.whl size=12500 sha256=f167382d4d0ba86313a4fc91fc016b29eb9c52504f91349b808d3cc041ed37de\n",
            "  Stored in directory: /home/jtss/.cache/pip/wheels/95/4a/90/140f7b67d125906f6a165f38aad212ecb4a695ad0d87582437\n",
            "  Building wheel for py2store (setup.py) ... \u001b[?25ldone\n",
            "\u001b[?25h  Created wheel for py2store: filename=py2store-0.1.20-py3-none-any.whl size=118411 sha256=5075e61324da491459c1c79989ba5f73c43366643faae110aea20e29d3cb1b97\n",
            "  Stored in directory: /home/jtss/.cache/pip/wheels/ff/40/40/fa84c63029cbb45f4f3824be4be62c6838436ad4cb264b5585\n",
            "Successfully built transformers-stream-generator py2store\n",
            "Installing collected packages: i2, dol, better-abc, zstandard, wadler-lindig, uvloop, typeguard, tenacity, shellingham, pyzmq, pyyaml, pluggy, patsy, orjson, lxml, iniconfig, h11, gprof2dot, fsspec, fancy-einsum, einops, docstring-parser, config2py, beartype, tiktoken, simple-parsing, scikit-learn, pytest, py2store, plotly, jaxtyping, httpcore, graze, blobfile, typer, statsmodels, pytest-profiling, httpx, babe, plotly-express, boostedblob, transformers-stream-generator, datasets, automated-interpretability, transformer-lens, sae-lens\n",
            "  Attempting uninstall: typeguard\n",
            "    Found existing installation: typeguard 2.13.3\n",
            "    Uninstalling typeguard-2.13.3:\n",
            "      Successfully uninstalled typeguard-2.13.3\n",
            "  Attempting uninstall: pyzmq\n",
            "    Found existing installation: pyzmq 26.2.0\n",
            "    Uninstalling pyzmq-26.2.0:\n",
            "      Successfully uninstalled pyzmq-26.2.0\n",
            "  Attempting uninstall: pyyaml\n",
            "    Found existing installation: PyYAML 6.0\n",
            "    Uninstalling PyYAML-6.0:\n",
            "      Successfully uninstalled PyYAML-6.0\n",
            "  Attempting uninstall: fsspec\n",
            "    Found existing installation: fsspec 2024.12.0\n",
            "    Uninstalling fsspec-2024.12.0:\n",
            "      Successfully uninstalled fsspec-2024.12.0\n",
            "  Attempting uninstall: scikit-learn\n",
            "    Found existing installation: scikit-learn 1.0.2\n",
            "    Uninstalling scikit-learn-1.0.2:\n",
            "      Successfully uninstalled scikit-learn-1.0.2\n",
            "  Attempting uninstall: datasets\n",
            "    Found existing installation: datasets 3.3.2\n",
            "    Uninstalling datasets-3.3.2:\n",
            "      Successfully uninstalled datasets-3.3.2\n",
            "\u001b[31mERROR: pip's dependency resolver does not currently take into account all the packages that are installed. This behaviour is the source of the following dependency conflicts.\n",
            "trl 0.17.0 requires datasets>=3.0.0, but you have datasets 2.21.0 which is incompatible.\u001b[0m\u001b[31m\n",
            "\u001b[0mSuccessfully installed automated-interpretability-0.0.9 babe-0.0.7 beartype-0.14.1 better-abc-0.0.3 blobfile-2.1.1 boostedblob-0.15.6 config2py-0.1.37 datasets-2.21.0 docstring-parser-0.16 dol-0.3.16 einops-0.8.1 fancy-einsum-0.0.3 fsspec-2024.6.1 gprof2dot-2025.4.14 graze-0.1.29 h11-0.16.0 httpcore-1.0.9 httpx-0.27.2 i2-0.1.46 iniconfig-2.1.0 jaxtyping-0.3.2 lxml-4.9.4 orjson-3.10.18 patsy-1.0.1 plotly-5.24.1 plotly-express-0.4.1 pluggy-1.6.0 py2store-0.1.20 pytest-8.3.5 pytest-profiling-1.8.1 pyyaml-6.0.2 pyzmq-26.0.0 sae-lens-5.10.2 scikit-learn-1.6.1 shellingham-1.5.4 simple-parsing-0.1.7 statsmodels-0.14.4 tenacity-9.1.2 tiktoken-0.9.0 transformer-lens-2.15.4 transformers-stream-generator-0.0.5 typeguard-4.4.2 typer-0.12.5 uvloop-0.21.0 wadler-lindig-0.1.6 zstandard-0.22.0\n"
          ]
        }
      ],
      "source": [
        "!pip install sae-lens"
      ]
    },
    {
      "cell_type": "code",
      "execution_count": 33,
      "metadata": {
        "id": "v8iz9tluYuQy"
      },
      "outputs": [
        {
          "data": {
            "application/vnd.jupyter.widget-view+json": {
              "model_id": "3edf3c9842cf4770a951c2386459e858",
              "version_major": 2,
              "version_minor": 0
            },
            "text/plain": [
              "params.npz:   0%|          | 0.00/302M [00:00<?, ?B/s]"
            ]
          },
          "metadata": {},
          "output_type": "display_data"
        },
        {
          "name": "stdout",
          "output_type": "stream",
          "text": [
            "SAE(\n",
            "  (activation_fn): ReLU()\n",
            "  (hook_sae_input): HookPoint()\n",
            "  (hook_sae_acts_pre): HookPoint()\n",
            "  (hook_sae_acts_post): HookPoint()\n",
            "  (hook_sae_output): HookPoint()\n",
            "  (hook_sae_recons): HookPoint()\n",
            "  (hook_sae_error): HookPoint()\n",
            ") {'architecture': 'jumprelu', 'd_in': 2304, 'd_sae': 16384, 'dtype': 'float32', 'model_name': 'gemma-2-2b', 'hook_name': 'blocks.20.hook_resid_post', 'hook_layer': 20, 'hook_head_index': None, 'activation_fn_str': 'relu', 'finetuning_scaling_factor': False, 'sae_lens_training_version': None, 'prepend_bos': True, 'dataset_path': 'monology/pile-uncopyrighted', 'context_size': 1024, 'dataset_trust_remote_code': True, 'apply_b_dec_to_input': False, 'normalize_activations': None, 'device': 'cpu', 'neuronpedia_id': 'gemma-2-2b/20-gemmascope-res-16k'} None\n"
          ]
        }
      ],
      "source": [
        "from sae_lens import SAE\n",
        "\n",
        "sae, cfg_dict, sparsity = SAE.from_pretrained(\n",
        "    release = \"gemma-scope-2b-pt-res-canonical\",\n",
        "    sae_id = \"layer_20/width_16k/canonical\",\n",
        ")\n",
        "\n",
        "print(sae, cfg_dict, sparsity)\n"
      ]
    },
    {
      "cell_type": "code",
      "execution_count": null,
      "metadata": {
        "id": "2YusIpmQYk-k"
      },
      "outputs": [],
      "source": [
        "from IPython.display import IFrame\n",
        "html_template = \"https://neuronpedia.org/{}/{}/{}?embed=true&embedexplanation=true&embedplots=true&embedtest=true&height=300\"\n",
        "\n",
        "def get_dashboard_html(sae_release = \"gemma-2-2b\", sae_id=\"20-gemmascope-res-16k\", feature_idx=0):\n",
        "    return html_template.format(sae_release, sae_id, feature_idx)\n",
        "\n",
        "########################## TODO (Q7.1) ############################\n",
        "html = get_dashboard_html(sae_release = \"gemma-2-2b\", sae_id=\"20-gemmascope-res-16k\", feature_idx=10004)\n",
        "IFrame(html, width=1200, height=600)\n",
        "###################################################################"
      ]
    },
    {
      "cell_type": "markdown",
      "metadata": {
        "id": "51VLXHjtGRLN"
      },
      "source": [
        "## Q7.2~7.3: Maximum activations comparison"
      ]
    },
    {
      "cell_type": "code",
      "execution_count": null,
      "metadata": {
        "id": "iLuW-Hk55qJb"
      },
      "outputs": [],
      "source": [
        "######################## (Q7.2 ~ 7.3) ########################\n",
        "\n",
        "def get_max_activation(model, tokenizer, sae, prompt, feature_idx=10004):\n",
        "    \"\"\"\n",
        "    Computes the maximum activation of a specific feature in a Sparse Autoencoder (SAE)\n",
        "    for a given prompt.\n",
        "\n",
        "    Args:\n",
        "        model: The Transformer model used for generating hidden states.\n",
        "        tokenizer: The tokenizer for encoding the prompt.\n",
        "        sae: The Sparse Autoencoder for encoding hidden states.\n",
        "        prompt (str): The input text prompt.\n",
        "        feature_idx (int, optional): The index of the feature in SAE. Defaults to 10004.\n",
        "\n",
        "    Returns:\n",
        "        float: The maximum activation value for the specified feature index.\n",
        "    \"\"\"\n",
        "    device = \"cuda\" if torch.cuda.is_available() else \"cpu\"\n",
        "    sae.to(device)\n",
        "\n",
        "    # Tokenize the input prompt and get model outputs\n",
        "    tokens = tokenizer.encode(prompt, return_tensors=\"pt\").to(model.device)\n",
        "    outputs = model(tokens, output_hidden_states=True)\n",
        "\n",
        "    # Extract hidden states from the specified layer\n",
        "    hidden_states = outputs.hidden_states[sae.cfg.hook_layer]\n",
        "\n",
        "    # Encode hidden states using SAE\n",
        "    sae_in = hidden_states\n",
        "    feature_acts = sae.encode(sae_in).squeeze()  # Shape: (batch_size * seq_len, num_features)\n",
        "    feature_acts = feature_acts.reshape(-1, feature_acts.shape[-1])\n",
        "\n",
        "    # Compute max activation for the specified feature index\n",
        "    max_activation = -float(\"inf\")\n",
        "    batch_max_activation = feature_acts[:, feature_idx].max().item()\n",
        "    max_activation = max(max_activation, batch_max_activation)\n",
        "\n",
        "    # Plot activation distribution\n",
        "    plt.figure(figsize=(8, 5))\n",
        "    plt.hist(feature_acts[:, feature_idx].cpu().detach().numpy(), bins=50, alpha=0.75, color='blue', edgecolor='black')\n",
        "    plt.xlabel(f\"Activation values (Feature {feature_idx})\")\n",
        "    plt.ylabel(\"Frequency\")\n",
        "    plt.title(f\"Activation Distribution for Feature {feature_idx} - Prompt: '{prompt}'\")\n",
        "    plt.grid(True)\n",
        "    plt.show()\n",
        "\n",
        "    return max_activation\n",
        "\n",
        "feature_idx = 10004\n",
        "# Define the prompts\n",
        "prompt_a = \"Time travel offers me the opportunity to correct past errors, but it comes with its own set of risks.\"\n",
        "prompt_b = \"I accept that my decisions shape my future, and though mistakes are inevitable, they define who I become.\"\n",
        "\n",
        "# Calculate the maximum activations for each prompt using the feature index\n",
        "max_activation_a = get_max_activation(model, tokenizer, sae, prompt_a, feature_idx=feature_idx)\n",
        "max_activation_b = get_max_activation(model, tokenizer, sae, prompt_b, feature_idx=feature_idx)\n",
        "\n",
        "# Print the comparison\n",
        "print(f\"max_activation for prompt_a: {max_activation_a}\")\n",
        "print(f\"max_activation for prompt_b: {max_activation_b}\")\n",
        "###########################################################"
      ]
    },
    {
      "cell_type": "markdown",
      "metadata": {
        "id": "gFg9hOKzGW8y"
      },
      "source": [
        "## Q7.4~7.6: Activation distribution for specific layer"
      ]
    },
    {
      "cell_type": "code",
      "execution_count": null,
      "metadata": {
        "id": "Ms4lv2S552IS"
      },
      "outputs": [],
      "source": [
        "import numpy as np\n",
        "import matplotlib.pyplot as plt\n",
        "\n",
        "def plot_token_activations(model, tokenizer, sae, prompt, feature_idx=10004, layer_idx=0):\n",
        "    \"\"\"\n",
        "    Plots activations for each token in a specific layer.\n",
        "\n",
        "    Args:\n",
        "        model: The transformer model.\n",
        "        tokenizer: Tokenizer for encoding input text.\n",
        "        sae: Sparse Autoencoder model.\n",
        "        prompt: Input text string.\n",
        "        feature_idx: Index of the feature to analyze.\n",
        "        layer_idx: Layer to analyze (None uses sae.cfg.hook_layer).\n",
        "    \"\"\"\n",
        "    device = \"cuda\" if torch.cuda.is_available() else \"cpu\"\n",
        "    sae.to(device)\n",
        "\n",
        "    # Tokenize input and get model output\n",
        "    tokens = tokenizer(prompt, return_tensors=\"pt\")\n",
        "    token_ids = tokens[\"input_ids\"].to(device)\n",
        "    token_list = tokenizer.convert_ids_to_tokens(token_ids.squeeze().tolist())\n",
        "\n",
        "    outputs = model(token_ids, output_hidden_states=True)\n",
        "\n",
        "    # Choose layer\n",
        "    layer_idx = layer_idx if layer_idx is not None else sae.cfg.hook_layer\n",
        "    hidden_states = outputs.hidden_states[layer_idx]\n",
        "\n",
        "    # Pass through SAE\n",
        "    sae_in = hidden_states\n",
        "    feature_acts = sae.encode(sae_in).squeeze()  # (batch_size, seq_len, num_features)\n",
        "    print(f\"feature_acts shape: {feature_acts.shape}\")\n",
        "\n",
        "    # Extract activations for the chosen feature\n",
        "    activations = feature_acts[:, feature_idx].squeeze().cpu().detach().numpy()\n",
        "\n",
        "    # Plot\n",
        "    plt.figure(figsize=(10, 5))\n",
        "    plt.bar(range(len(token_list)), activations, color='blue', alpha=0.7)\n",
        "    plt.xticks(range(len(token_list)), token_list, rotation=45)\n",
        "    plt.xlabel(\"Tokens\")\n",
        "    plt.ylabel(f\"Activation Value (Feature {feature_idx})\")\n",
        "    plt.title(f\"Token-wise Activations for Layer {layer_idx}\")\n",
        "    plt.grid(True)\n",
        "    plt.show()\n",
        "\n",
        "######################## (Q7.4 ~ 7.6) ########################\n",
        "# Simply observe the figure\n",
        "layer_idx = 24\n",
        "prompt = \"Time travel will become a reality as technology continues to advance.\"\n",
        "plot_token_activations(model, tokenizer, sae, prompt, feature_idx, layer_idx)\n",
        "###################################################################"
      ]
    },
    {
      "cell_type": "markdown",
      "metadata": {
        "id": "EwLP2sXZGcrb"
      },
      "source": [
        "## Q7.7~7.9: Activation distribution for specific token"
      ]
    },
    {
      "cell_type": "code",
      "execution_count": null,
      "metadata": {
        "id": "WjssMqTi55km"
      },
      "outputs": [],
      "source": [
        "def plot_layer_activations(model, tokenizer, sae, prompt, token_idx=0, feature_idx=10004):\n",
        "    \"\"\"\n",
        "    Plots activations of a specific token across all layers.\n",
        "\n",
        "    Args:\n",
        "        model: The transformer model.\n",
        "        tokenizer: Tokenizer for encoding input text.\n",
        "        sae: Sparse Autoencoder model.\n",
        "        prompt: Input text string.\n",
        "        token_idx: Index of the token to analyze.\n",
        "        feature_idx: Index of the feature to analyze.\n",
        "    \"\"\"\n",
        "    device = \"cuda\" if torch.cuda.is_available() else \"cpu\"\n",
        "    sae.to(device)\n",
        "\n",
        "    # Tokenize input and get model output\n",
        "    tokens = tokenizer(prompt, return_tensors=\"pt\")\n",
        "    token_ids = tokens[\"input_ids\"].to(device)\n",
        "    token_list = tokenizer.convert_ids_to_tokens(token_ids.squeeze().tolist())\n",
        "\n",
        "    outputs = model(token_ids, output_hidden_states=True)\n",
        "\n",
        "    # Collect activations across all layers\n",
        "    num_layers = len(outputs.hidden_states)\n",
        "    activations = []\n",
        "\n",
        "    for layer_idx in range(num_layers):\n",
        "        hidden_states = outputs.hidden_states[layer_idx]\n",
        "        sae_in = hidden_states\n",
        "        feature_acts = sae.encode(sae_in).squeeze()  # (batch_size, seq_len, num_features)\n",
        "        # print(f\"feature_acts shape: {feature_acts.shape}\")\n",
        "        activations.append(feature_acts[token_idx, feature_idx].item())\n",
        "\n",
        "    # Plot\n",
        "    plt.figure(figsize=(8, 5))\n",
        "    plt.plot(range(num_layers), activations, marker=\"o\", linestyle=\"-\", color=\"blue\")\n",
        "    plt.xlabel(\"Layer\")\n",
        "    plt.ylabel(f\"Activation Value (Feature {feature_idx})\")\n",
        "    plt.title(f\"Activation Across Layers for Token '{token_list[token_idx]}'\")\n",
        "    plt.xticks(range(num_layers))\n",
        "    plt.grid(True)\n",
        "    plt.show()\n",
        "\n",
        "######################## (Q7.7 ~ 7.9) ########################\n",
        "# Alter the token index to observe the figure\n",
        "token_idx = 1\n",
        "prompt = \"Time travel will become a reality as technology continues to advance.\"\n",
        "plot_layer_activations(model, tokenizer, sae, prompt, token_idx)\n",
        "###################################################################"
      ]
    }
  ],
  "metadata": {
    "accelerator": "GPU",
    "colab": {
      "gpuType": "T4",
      "provenance": []
    },
    "kaggle": {
      "accelerator": "gpu",
      "dataSources": [],
      "dockerImageVersionId": 30840,
      "isGpuEnabled": true,
      "isInternetEnabled": true,
      "language": "python",
      "sourceType": "notebook"
    },
    "kernelspec": {
      "display_name": "lab_training",
      "language": "python",
      "name": "python3"
    },
    "language_info": {
      "codemirror_mode": {
        "name": "ipython",
        "version": 3
      },
      "file_extension": ".py",
      "mimetype": "text/x-python",
      "name": "python",
      "nbconvert_exporter": "python",
      "pygments_lexer": "ipython3",
      "version": "3.10.16"
    }
  },
  "nbformat": 4,
  "nbformat_minor": 0
}
